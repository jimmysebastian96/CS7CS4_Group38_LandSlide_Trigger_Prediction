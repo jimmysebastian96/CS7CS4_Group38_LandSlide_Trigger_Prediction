{
  "nbformat": 4,
  "nbformat_minor": 0,
  "metadata": {
    "colab": {
      "provenance": []
    },
    "kernelspec": {
      "name": "python3",
      "display_name": "Python 3"
    },
    "language_info": {
      "name": "python"
    }
  },
  "cells": [
    {
      "cell_type": "code",
      "execution_count": null,
      "metadata": {
        "id": "QCWu6wdyPTrP"
      },
      "outputs": [],
      "source": [
        "import pandas as pd\n",
        "df = pd.read_csv(\"formated_data3.csv\",encoding=\"ISO-8859-1\")\n",
        "df['event_date']=pd.to_datetime(df[\"event_date\"],infer_datetime_format=True)"
      ]
    },
    {
      "cell_type": "code",
      "source": [
        "#dropping empty and rows with unknown\n",
        "df.dropna(\n",
        "    axis=0,\n",
        "    how='any',\n",
        "    thresh=None,\n",
        "    subset=None,\n",
        "    inplace=True\n",
        ")\n",
        "df = df[df.landslide_trigger != 'unknown']\n",
        "df = df[df.landslide_setting != 'unknown']\n",
        "df.drop_duplicates()"
      ],
      "metadata": {
        "colab": {
          "base_uri": "https://localhost:8080/",
          "height": 661
        },
        "id": "6q3vGmzOPY0G",
        "outputId": "05443724-26f4-4100-e83b-e83fa51a2a02"
      },
      "execution_count": null,
      "outputs": [
        {
          "output_type": "execute_result",
          "data": {
            "text/plain": [
              "              event_date landslide_category landslide_trigger landslide_size  \\\n",
              "0    2015-05-17 00:00:00          landslide              rain         medium   \n",
              "1    2016-10-01 00:00:00          landslide          downpour         medium   \n",
              "2    2015-04-02 00:00:00          landslide   continuous_rain         medium   \n",
              "3    2015-07-19 00:00:00          landslide          downpour          small   \n",
              "4    2015-10-21 00:00:00          landslide              rain         medium   \n",
              "...                  ...                ...               ...            ...   \n",
              "1702 2015-03-05 09:00:00           mudslide              rain          small   \n",
              "1703 2014-12-02 00:00:00        debris_flow              rain         medium   \n",
              "1704 2016-10-24 23:00:00          rock_fall      construction         medium   \n",
              "1705 2015-11-16 09:00:00          landslide          downpour         medium   \n",
              "1706 2015-01-20 00:00:00          landslide          downpour         medium   \n",
              "\n",
              "     landslide_setting  fatality_count  injury_count country_code  \\\n",
              "0                urban               0             0           MX   \n",
              "1                bluff               0             0           GB   \n",
              "2        natural_slope               0             0           IN   \n",
              "3           above_road               0             0           US   \n",
              "4           above_road               0             0           MX   \n",
              "...                ...             ...           ...          ...   \n",
              "1702        above_road               0             0           US   \n",
              "1703       burned_area               0             0           US   \n",
              "1704              mine               0             2           CA   \n",
              "1705     natural_slope               0             0           MY   \n",
              "1706              mine               2             3           PK   \n",
              "\n",
              "     admin_division_name  admin_division_population  longitude  latitude  \\\n",
              "0        Baja California                       1173  -117.0898   32.5196   \n",
              "1                England                       2565     0.8546   51.4216   \n",
              "2                Kashmir                      14965    74.4725   34.1587   \n",
              "3             California                      20292  -116.9029   33.0742   \n",
              "4                Chiapas                      19092   -92.2523   15.3482   \n",
              "...                  ...                        ...        ...       ...   \n",
              "1702       West Virginia                       1344   -81.2565   37.7028   \n",
              "1703          California                       3249  -118.9858   34.1946   \n",
              "1704    British Columbia                       4038  -116.4362   51.4197   \n",
              "1705        Kuala Lumpur                    1453975   101.7036    3.1497   \n",
              "1706         Balochist?n                       7630    67.3799   30.6218   \n",
              "\n",
              "      temp  humidity  wind  \n",
              "0     16.4      74.0  13.6  \n",
              "1     12.3      88.0  11.3  \n",
              "2      5.2      92.0   4.3  \n",
              "3     21.3      93.0  11.8  \n",
              "4     18.2      92.0   3.6  \n",
              "...    ...       ...   ...  \n",
              "1702  -0.9      95.0  14.3  \n",
              "1703  17.8      73.0   3.3  \n",
              "1704   3.9      81.0   4.3  \n",
              "1705  27.4      82.0   3.7  \n",
              "1706   2.0      78.0   7.0  \n",
              "\n",
              "[1683 rows x 15 columns]"
            ],
            "text/html": [
              "\n",
              "  <div id=\"df-e637aa27-9338-4c95-931b-7d166bc4f466\">\n",
              "    <div class=\"colab-df-container\">\n",
              "      <div>\n",
              "<style scoped>\n",
              "    .dataframe tbody tr th:only-of-type {\n",
              "        vertical-align: middle;\n",
              "    }\n",
              "\n",
              "    .dataframe tbody tr th {\n",
              "        vertical-align: top;\n",
              "    }\n",
              "\n",
              "    .dataframe thead th {\n",
              "        text-align: right;\n",
              "    }\n",
              "</style>\n",
              "<table border=\"1\" class=\"dataframe\">\n",
              "  <thead>\n",
              "    <tr style=\"text-align: right;\">\n",
              "      <th></th>\n",
              "      <th>event_date</th>\n",
              "      <th>landslide_category</th>\n",
              "      <th>landslide_trigger</th>\n",
              "      <th>landslide_size</th>\n",
              "      <th>landslide_setting</th>\n",
              "      <th>fatality_count</th>\n",
              "      <th>injury_count</th>\n",
              "      <th>country_code</th>\n",
              "      <th>admin_division_name</th>\n",
              "      <th>admin_division_population</th>\n",
              "      <th>longitude</th>\n",
              "      <th>latitude</th>\n",
              "      <th>temp</th>\n",
              "      <th>humidity</th>\n",
              "      <th>wind</th>\n",
              "    </tr>\n",
              "  </thead>\n",
              "  <tbody>\n",
              "    <tr>\n",
              "      <th>0</th>\n",
              "      <td>2015-05-17 00:00:00</td>\n",
              "      <td>landslide</td>\n",
              "      <td>rain</td>\n",
              "      <td>medium</td>\n",
              "      <td>urban</td>\n",
              "      <td>0</td>\n",
              "      <td>0</td>\n",
              "      <td>MX</td>\n",
              "      <td>Baja California</td>\n",
              "      <td>1173</td>\n",
              "      <td>-117.0898</td>\n",
              "      <td>32.5196</td>\n",
              "      <td>16.4</td>\n",
              "      <td>74.0</td>\n",
              "      <td>13.6</td>\n",
              "    </tr>\n",
              "    <tr>\n",
              "      <th>1</th>\n",
              "      <td>2016-10-01 00:00:00</td>\n",
              "      <td>landslide</td>\n",
              "      <td>downpour</td>\n",
              "      <td>medium</td>\n",
              "      <td>bluff</td>\n",
              "      <td>0</td>\n",
              "      <td>0</td>\n",
              "      <td>GB</td>\n",
              "      <td>England</td>\n",
              "      <td>2565</td>\n",
              "      <td>0.8546</td>\n",
              "      <td>51.4216</td>\n",
              "      <td>12.3</td>\n",
              "      <td>88.0</td>\n",
              "      <td>11.3</td>\n",
              "    </tr>\n",
              "    <tr>\n",
              "      <th>2</th>\n",
              "      <td>2015-04-02 00:00:00</td>\n",
              "      <td>landslide</td>\n",
              "      <td>continuous_rain</td>\n",
              "      <td>medium</td>\n",
              "      <td>natural_slope</td>\n",
              "      <td>0</td>\n",
              "      <td>0</td>\n",
              "      <td>IN</td>\n",
              "      <td>Kashmir</td>\n",
              "      <td>14965</td>\n",
              "      <td>74.4725</td>\n",
              "      <td>34.1587</td>\n",
              "      <td>5.2</td>\n",
              "      <td>92.0</td>\n",
              "      <td>4.3</td>\n",
              "    </tr>\n",
              "    <tr>\n",
              "      <th>3</th>\n",
              "      <td>2015-07-19 00:00:00</td>\n",
              "      <td>landslide</td>\n",
              "      <td>downpour</td>\n",
              "      <td>small</td>\n",
              "      <td>above_road</td>\n",
              "      <td>0</td>\n",
              "      <td>0</td>\n",
              "      <td>US</td>\n",
              "      <td>California</td>\n",
              "      <td>20292</td>\n",
              "      <td>-116.9029</td>\n",
              "      <td>33.0742</td>\n",
              "      <td>21.3</td>\n",
              "      <td>93.0</td>\n",
              "      <td>11.8</td>\n",
              "    </tr>\n",
              "    <tr>\n",
              "      <th>4</th>\n",
              "      <td>2015-10-21 00:00:00</td>\n",
              "      <td>landslide</td>\n",
              "      <td>rain</td>\n",
              "      <td>medium</td>\n",
              "      <td>above_road</td>\n",
              "      <td>0</td>\n",
              "      <td>0</td>\n",
              "      <td>MX</td>\n",
              "      <td>Chiapas</td>\n",
              "      <td>19092</td>\n",
              "      <td>-92.2523</td>\n",
              "      <td>15.3482</td>\n",
              "      <td>18.2</td>\n",
              "      <td>92.0</td>\n",
              "      <td>3.6</td>\n",
              "    </tr>\n",
              "    <tr>\n",
              "      <th>...</th>\n",
              "      <td>...</td>\n",
              "      <td>...</td>\n",
              "      <td>...</td>\n",
              "      <td>...</td>\n",
              "      <td>...</td>\n",
              "      <td>...</td>\n",
              "      <td>...</td>\n",
              "      <td>...</td>\n",
              "      <td>...</td>\n",
              "      <td>...</td>\n",
              "      <td>...</td>\n",
              "      <td>...</td>\n",
              "      <td>...</td>\n",
              "      <td>...</td>\n",
              "      <td>...</td>\n",
              "    </tr>\n",
              "    <tr>\n",
              "      <th>1702</th>\n",
              "      <td>2015-03-05 09:00:00</td>\n",
              "      <td>mudslide</td>\n",
              "      <td>rain</td>\n",
              "      <td>small</td>\n",
              "      <td>above_road</td>\n",
              "      <td>0</td>\n",
              "      <td>0</td>\n",
              "      <td>US</td>\n",
              "      <td>West Virginia</td>\n",
              "      <td>1344</td>\n",
              "      <td>-81.2565</td>\n",
              "      <td>37.7028</td>\n",
              "      <td>-0.9</td>\n",
              "      <td>95.0</td>\n",
              "      <td>14.3</td>\n",
              "    </tr>\n",
              "    <tr>\n",
              "      <th>1703</th>\n",
              "      <td>2014-12-02 00:00:00</td>\n",
              "      <td>debris_flow</td>\n",
              "      <td>rain</td>\n",
              "      <td>medium</td>\n",
              "      <td>burned_area</td>\n",
              "      <td>0</td>\n",
              "      <td>0</td>\n",
              "      <td>US</td>\n",
              "      <td>California</td>\n",
              "      <td>3249</td>\n",
              "      <td>-118.9858</td>\n",
              "      <td>34.1946</td>\n",
              "      <td>17.8</td>\n",
              "      <td>73.0</td>\n",
              "      <td>3.3</td>\n",
              "    </tr>\n",
              "    <tr>\n",
              "      <th>1704</th>\n",
              "      <td>2016-10-24 23:00:00</td>\n",
              "      <td>rock_fall</td>\n",
              "      <td>construction</td>\n",
              "      <td>medium</td>\n",
              "      <td>mine</td>\n",
              "      <td>0</td>\n",
              "      <td>2</td>\n",
              "      <td>CA</td>\n",
              "      <td>British Columbia</td>\n",
              "      <td>4038</td>\n",
              "      <td>-116.4362</td>\n",
              "      <td>51.4197</td>\n",
              "      <td>3.9</td>\n",
              "      <td>81.0</td>\n",
              "      <td>4.3</td>\n",
              "    </tr>\n",
              "    <tr>\n",
              "      <th>1705</th>\n",
              "      <td>2015-11-16 09:00:00</td>\n",
              "      <td>landslide</td>\n",
              "      <td>downpour</td>\n",
              "      <td>medium</td>\n",
              "      <td>natural_slope</td>\n",
              "      <td>0</td>\n",
              "      <td>0</td>\n",
              "      <td>MY</td>\n",
              "      <td>Kuala Lumpur</td>\n",
              "      <td>1453975</td>\n",
              "      <td>101.7036</td>\n",
              "      <td>3.1497</td>\n",
              "      <td>27.4</td>\n",
              "      <td>82.0</td>\n",
              "      <td>3.7</td>\n",
              "    </tr>\n",
              "    <tr>\n",
              "      <th>1706</th>\n",
              "      <td>2015-01-20 00:00:00</td>\n",
              "      <td>landslide</td>\n",
              "      <td>downpour</td>\n",
              "      <td>medium</td>\n",
              "      <td>mine</td>\n",
              "      <td>2</td>\n",
              "      <td>3</td>\n",
              "      <td>PK</td>\n",
              "      <td>Balochist?n</td>\n",
              "      <td>7630</td>\n",
              "      <td>67.3799</td>\n",
              "      <td>30.6218</td>\n",
              "      <td>2.0</td>\n",
              "      <td>78.0</td>\n",
              "      <td>7.0</td>\n",
              "    </tr>\n",
              "  </tbody>\n",
              "</table>\n",
              "<p>1683 rows × 15 columns</p>\n",
              "</div>\n",
              "      <button class=\"colab-df-convert\" onclick=\"convertToInteractive('df-e637aa27-9338-4c95-931b-7d166bc4f466')\"\n",
              "              title=\"Convert this dataframe to an interactive table.\"\n",
              "              style=\"display:none;\">\n",
              "        \n",
              "  <svg xmlns=\"http://www.w3.org/2000/svg\" height=\"24px\"viewBox=\"0 0 24 24\"\n",
              "       width=\"24px\">\n",
              "    <path d=\"M0 0h24v24H0V0z\" fill=\"none\"/>\n",
              "    <path d=\"M18.56 5.44l.94 2.06.94-2.06 2.06-.94-2.06-.94-.94-2.06-.94 2.06-2.06.94zm-11 1L8.5 8.5l.94-2.06 2.06-.94-2.06-.94L8.5 2.5l-.94 2.06-2.06.94zm10 10l.94 2.06.94-2.06 2.06-.94-2.06-.94-.94-2.06-.94 2.06-2.06.94z\"/><path d=\"M17.41 7.96l-1.37-1.37c-.4-.4-.92-.59-1.43-.59-.52 0-1.04.2-1.43.59L10.3 9.45l-7.72 7.72c-.78.78-.78 2.05 0 2.83L4 21.41c.39.39.9.59 1.41.59.51 0 1.02-.2 1.41-.59l7.78-7.78 2.81-2.81c.8-.78.8-2.07 0-2.86zM5.41 20L4 18.59l7.72-7.72 1.47 1.35L5.41 20z\"/>\n",
              "  </svg>\n",
              "      </button>\n",
              "      \n",
              "  <style>\n",
              "    .colab-df-container {\n",
              "      display:flex;\n",
              "      flex-wrap:wrap;\n",
              "      gap: 12px;\n",
              "    }\n",
              "\n",
              "    .colab-df-convert {\n",
              "      background-color: #E8F0FE;\n",
              "      border: none;\n",
              "      border-radius: 50%;\n",
              "      cursor: pointer;\n",
              "      display: none;\n",
              "      fill: #1967D2;\n",
              "      height: 32px;\n",
              "      padding: 0 0 0 0;\n",
              "      width: 32px;\n",
              "    }\n",
              "\n",
              "    .colab-df-convert:hover {\n",
              "      background-color: #E2EBFA;\n",
              "      box-shadow: 0px 1px 2px rgba(60, 64, 67, 0.3), 0px 1px 3px 1px rgba(60, 64, 67, 0.15);\n",
              "      fill: #174EA6;\n",
              "    }\n",
              "\n",
              "    [theme=dark] .colab-df-convert {\n",
              "      background-color: #3B4455;\n",
              "      fill: #D2E3FC;\n",
              "    }\n",
              "\n",
              "    [theme=dark] .colab-df-convert:hover {\n",
              "      background-color: #434B5C;\n",
              "      box-shadow: 0px 1px 3px 1px rgba(0, 0, 0, 0.15);\n",
              "      filter: drop-shadow(0px 1px 2px rgba(0, 0, 0, 0.3));\n",
              "      fill: #FFFFFF;\n",
              "    }\n",
              "  </style>\n",
              "\n",
              "      <script>\n",
              "        const buttonEl =\n",
              "          document.querySelector('#df-e637aa27-9338-4c95-931b-7d166bc4f466 button.colab-df-convert');\n",
              "        buttonEl.style.display =\n",
              "          google.colab.kernel.accessAllowed ? 'block' : 'none';\n",
              "\n",
              "        async function convertToInteractive(key) {\n",
              "          const element = document.querySelector('#df-e637aa27-9338-4c95-931b-7d166bc4f466');\n",
              "          const dataTable =\n",
              "            await google.colab.kernel.invokeFunction('convertToInteractive',\n",
              "                                                     [key], {});\n",
              "          if (!dataTable) return;\n",
              "\n",
              "          const docLinkHtml = 'Like what you see? Visit the ' +\n",
              "            '<a target=\"_blank\" href=https://colab.research.google.com/notebooks/data_table.ipynb>data table notebook</a>'\n",
              "            + ' to learn more about interactive tables.';\n",
              "          element.innerHTML = '';\n",
              "          dataTable['output_type'] = 'display_data';\n",
              "          await google.colab.output.renderOutput(dataTable, element);\n",
              "          const docLink = document.createElement('div');\n",
              "          docLink.innerHTML = docLinkHtml;\n",
              "          element.appendChild(docLink);\n",
              "        }\n",
              "      </script>\n",
              "    </div>\n",
              "  </div>\n",
              "  "
            ]
          },
          "metadata": {},
          "execution_count": 3
        }
      ]
    },
    {
      "cell_type": "code",
      "source": [
        "#splitting date time into columns\n",
        "df['event_date_year'] = df['event_date'].dt.year\n",
        "df['event_date_month'] = df['event_date'].dt.month\n",
        "df['event_date_week'] = df['event_date'].dt.week\n",
        "df['event_date_day'] = df['event_date'].dt.day\n",
        "df['event_date_hour'] = df['event_date'].dt.hour\n",
        "df['event_date_minute'] = df['event_date'].dt.minute\n",
        "df['event_date_dayofweek'] = df['event_date'].dt.dayofweek\n",
        "df = df.drop('event_date', axis=1)"
      ],
      "metadata": {
        "colab": {
          "base_uri": "https://localhost:8080/"
        },
        "id": "hECfyKV4PbXa",
        "outputId": "86dd5be6-1e07-4756-ac53-a3129b975172"
      },
      "execution_count": null,
      "outputs": [
        {
          "output_type": "stream",
          "name": "stderr",
          "text": [
            "<ipython-input-4-534d57747069>:4: FutureWarning: Series.dt.weekofyear and Series.dt.week have been deprecated.  Please use Series.dt.isocalendar().week instead.\n",
            "  df['event_date_week'] = df['event_date'].dt.week\n"
          ]
        }
      ]
    },
    {
      "cell_type": "code",
      "source": [
        "from sklearn import preprocessing\n",
        "le = preprocessing.LabelEncoder()\n",
        "\n",
        "df['country_code']=le.fit_transform(df['country_code'])\n",
        "df['landslide_category']=le.fit_transform(df['landslide_category'])\n",
        "df['landslide_trigger']=le.fit_transform(df['landslide_trigger'])\n",
        "df['landslide_setting']=le.fit_transform(df['landslide_setting'])\n",
        "df['landslide_size']=le.fit_transform(df['landslide_size'])\n",
        "df['admin_division_name']=le.fit_transform(df['admin_division_name'])"
      ],
      "metadata": {
        "id": "hfEmHll_Pdvz"
      },
      "execution_count": null,
      "outputs": []
    },
    {
      "cell_type": "code",
      "source": [
        "X=df\n",
        "from sklearn.preprocessing import StandardScaler\n",
        "scaler = StandardScaler()\n",
        "X=pd.DataFrame(scaler.fit_transform(X),index=X.index, columns=X.columns)\n",
        "Y = df['landslide_trigger']\n",
        "X=X.drop('landslide_trigger',axis=1)"
      ],
      "metadata": {
        "id": "g1_oqrnfPgXR"
      },
      "execution_count": null,
      "outputs": []
    },
    {
      "cell_type": "code",
      "source": [
        "#X_backup=X\n",
        "#X=X_backup\n",
        "#X=X[['temp','longitude','landslide_category','wind','landslide_setting','admin_division_population','country_code','fatality_count','latitude','landslide_size']]\n",
        "X=X[['temp','longitude','landslide_category','wind','landslide_setting','admin_division_population','country_code','latitude','fatality_count']]\n",
        "from sklearn.model_selection import train_test_split\n",
        "X_train, X_test, Y_train, Y_test = train_test_split(X, Y, test_size=0.2)"
      ],
      "metadata": {
        "id": "bRvAqUSyPjN1"
      },
      "execution_count": null,
      "outputs": []
    },
    {
      "cell_type": "code",
      "source": [
        "import statistics\n",
        "import random\n",
        "from sklearn.metrics import accuracy_score\n",
        "from sklearn .dummy import DummyClassifier\n",
        "from sklearn.ensemble import RandomForestClassifier\n",
        "from sklearn.svm import SVC\n",
        "\n",
        "RandomModel=DummyClassifier(strategy=\"uniform\")\n",
        "RandomModel.fit(X,Y)\n",
        "y_pred=RandomModel.predict(X)\n",
        "print(\"Accuracy score:\",accuracy_score(Y, y_pred))\n",
        "\n",
        "MostFrequentModel=DummyClassifier(strategy=\"most_frequent\")\n",
        "MostFrequentModel.fit(X_train,Y_train)\n",
        "y_pred=MostFrequentModel.predict(X_test)\n",
        "print(\"Accuracy score:\",accuracy_score(Y_test, y_pred))\n",
        "\n",
        "SVCModel=SVC(C=6, gamma=1)\n",
        "SVCModel.fit(X_train,Y_train)\n",
        "y_pred=SVCModel.predict(X_test)\n",
        "print(\"Accuracy score:\",accuracy_score(Y_test, y_pred))\n"
      ],
      "metadata": {
        "colab": {
          "base_uri": "https://localhost:8080/"
        },
        "id": "2KBq27SAPlvo",
        "outputId": "286a69b3-35ff-4b0a-f343-c2085e8a9653"
      },
      "execution_count": null,
      "outputs": [
        {
          "output_type": "stream",
          "name": "stdout",
          "text": [
            "Accuracy score: 0.06639004149377593\n",
            "Accuracy score: 0.3668639053254438\n",
            "Accuracy score: 0.42011834319526625\n"
          ]
        }
      ]
    },
    {
      "cell_type": "code",
      "source": [
        "from sklearn.model_selection import GridSearchCV\n",
        "param_grid = {'C': [0.1,1, 10, 100], 'gamma': [1,0.1,0.01,0.001],'kernel': ['rbf', 'poly', 'sigmoid']}\n",
        "grid = GridSearchCV(SVC(),param_grid,refit=True,verbose=2)\n",
        "grid.fit(X_train,Y_train)"
      ],
      "metadata": {
        "colab": {
          "base_uri": "https://localhost:8080/"
        },
        "id": "MT27-X2ePsp-",
        "outputId": "9fd6562c-ef7c-4cee-e148-65bcbf7b685b"
      },
      "execution_count": null,
      "outputs": [
        {
          "output_type": "stream",
          "name": "stdout",
          "text": [
            "Fitting 5 folds for each of 48 candidates, totalling 240 fits\n",
            "[CV] END .........................C=0.1, gamma=1, kernel=rbf; total time=   0.2s\n"
          ]
        },
        {
          "output_type": "stream",
          "name": "stderr",
          "text": [
            "/usr/local/lib/python3.8/dist-packages/sklearn/model_selection/_split.py:676: UserWarning: The least populated class in y has only 1 members, which is less than n_splits=5.\n",
            "  warnings.warn(\n"
          ]
        },
        {
          "output_type": "stream",
          "name": "stdout",
          "text": [
            "[CV] END .........................C=0.1, gamma=1, kernel=rbf; total time=   0.2s\n",
            "[CV] END .........................C=0.1, gamma=1, kernel=rbf; total time=   0.2s\n",
            "[CV] END .........................C=0.1, gamma=1, kernel=rbf; total time=   0.2s\n",
            "[CV] END .........................C=0.1, gamma=1, kernel=rbf; total time=   0.2s\n",
            "[CV] END ........................C=0.1, gamma=1, kernel=poly; total time=   0.3s\n",
            "[CV] END ........................C=0.1, gamma=1, kernel=poly; total time=   0.3s\n",
            "[CV] END ........................C=0.1, gamma=1, kernel=poly; total time=   0.3s\n",
            "[CV] END ........................C=0.1, gamma=1, kernel=poly; total time=   0.3s\n",
            "[CV] END ........................C=0.1, gamma=1, kernel=poly; total time=   0.2s\n",
            "[CV] END .....................C=0.1, gamma=1, kernel=sigmoid; total time=   0.1s\n",
            "[CV] END .....................C=0.1, gamma=1, kernel=sigmoid; total time=   0.1s\n",
            "[CV] END .....................C=0.1, gamma=1, kernel=sigmoid; total time=   0.1s\n",
            "[CV] END .....................C=0.1, gamma=1, kernel=sigmoid; total time=   0.1s\n",
            "[CV] END .....................C=0.1, gamma=1, kernel=sigmoid; total time=   0.1s\n",
            "[CV] END .......................C=0.1, gamma=0.1, kernel=rbf; total time=   0.1s\n",
            "[CV] END .......................C=0.1, gamma=0.1, kernel=rbf; total time=   0.1s\n",
            "[CV] END .......................C=0.1, gamma=0.1, kernel=rbf; total time=   0.1s\n",
            "[CV] END .......................C=0.1, gamma=0.1, kernel=rbf; total time=   0.1s\n",
            "[CV] END .......................C=0.1, gamma=0.1, kernel=rbf; total time=   0.1s\n",
            "[CV] END ......................C=0.1, gamma=0.1, kernel=poly; total time=   0.1s\n",
            "[CV] END ......................C=0.1, gamma=0.1, kernel=poly; total time=   0.1s\n",
            "[CV] END ......................C=0.1, gamma=0.1, kernel=poly; total time=   0.1s\n",
            "[CV] END ......................C=0.1, gamma=0.1, kernel=poly; total time=   0.1s\n",
            "[CV] END ......................C=0.1, gamma=0.1, kernel=poly; total time=   0.1s\n",
            "[CV] END ...................C=0.1, gamma=0.1, kernel=sigmoid; total time=   0.1s\n",
            "[CV] END ...................C=0.1, gamma=0.1, kernel=sigmoid; total time=   0.1s\n",
            "[CV] END ...................C=0.1, gamma=0.1, kernel=sigmoid; total time=   0.1s\n",
            "[CV] END ...................C=0.1, gamma=0.1, kernel=sigmoid; total time=   0.1s\n",
            "[CV] END ...................C=0.1, gamma=0.1, kernel=sigmoid; total time=   0.1s\n",
            "[CV] END ......................C=0.1, gamma=0.01, kernel=rbf; total time=   0.1s\n",
            "[CV] END ......................C=0.1, gamma=0.01, kernel=rbf; total time=   0.1s\n",
            "[CV] END ......................C=0.1, gamma=0.01, kernel=rbf; total time=   0.1s\n",
            "[CV] END ......................C=0.1, gamma=0.01, kernel=rbf; total time=   0.1s\n",
            "[CV] END ......................C=0.1, gamma=0.01, kernel=rbf; total time=   0.1s\n",
            "[CV] END .....................C=0.1, gamma=0.01, kernel=poly; total time=   0.1s\n",
            "[CV] END .....................C=0.1, gamma=0.01, kernel=poly; total time=   0.0s\n",
            "[CV] END .....................C=0.1, gamma=0.01, kernel=poly; total time=   0.0s\n",
            "[CV] END .....................C=0.1, gamma=0.01, kernel=poly; total time=   0.0s\n",
            "[CV] END .....................C=0.1, gamma=0.01, kernel=poly; total time=   0.1s\n",
            "[CV] END ..................C=0.1, gamma=0.01, kernel=sigmoid; total time=   0.1s\n",
            "[CV] END ..................C=0.1, gamma=0.01, kernel=sigmoid; total time=   0.1s\n",
            "[CV] END ..................C=0.1, gamma=0.01, kernel=sigmoid; total time=   0.1s\n",
            "[CV] END ..................C=0.1, gamma=0.01, kernel=sigmoid; total time=   0.1s\n",
            "[CV] END ..................C=0.1, gamma=0.01, kernel=sigmoid; total time=   0.1s\n",
            "[CV] END .....................C=0.1, gamma=0.001, kernel=rbf; total time=   0.1s\n",
            "[CV] END .....................C=0.1, gamma=0.001, kernel=rbf; total time=   0.1s\n",
            "[CV] END .....................C=0.1, gamma=0.001, kernel=rbf; total time=   0.1s\n",
            "[CV] END .....................C=0.1, gamma=0.001, kernel=rbf; total time=   0.1s\n",
            "[CV] END .....................C=0.1, gamma=0.001, kernel=rbf; total time=   0.1s\n",
            "[CV] END ....................C=0.1, gamma=0.001, kernel=poly; total time=   0.0s\n",
            "[CV] END ....................C=0.1, gamma=0.001, kernel=poly; total time=   0.0s\n",
            "[CV] END ....................C=0.1, gamma=0.001, kernel=poly; total time=   0.1s\n",
            "[CV] END ....................C=0.1, gamma=0.001, kernel=poly; total time=   0.1s\n",
            "[CV] END ....................C=0.1, gamma=0.001, kernel=poly; total time=   0.0s\n",
            "[CV] END .................C=0.1, gamma=0.001, kernel=sigmoid; total time=   0.1s\n",
            "[CV] END .................C=0.1, gamma=0.001, kernel=sigmoid; total time=   0.1s\n",
            "[CV] END .................C=0.1, gamma=0.001, kernel=sigmoid; total time=   0.1s\n",
            "[CV] END .................C=0.1, gamma=0.001, kernel=sigmoid; total time=   0.1s\n",
            "[CV] END .................C=0.1, gamma=0.001, kernel=sigmoid; total time=   0.1s\n",
            "[CV] END ...........................C=1, gamma=1, kernel=rbf; total time=   0.2s\n",
            "[CV] END ...........................C=1, gamma=1, kernel=rbf; total time=   0.2s\n",
            "[CV] END ...........................C=1, gamma=1, kernel=rbf; total time=   0.2s\n",
            "[CV] END ...........................C=1, gamma=1, kernel=rbf; total time=   0.2s\n",
            "[CV] END ...........................C=1, gamma=1, kernel=rbf; total time=   0.2s\n",
            "[CV] END ..........................C=1, gamma=1, kernel=poly; total time=   1.4s\n",
            "[CV] END ..........................C=1, gamma=1, kernel=poly; total time=   1.6s\n",
            "[CV] END ..........................C=1, gamma=1, kernel=poly; total time=   1.2s\n",
            "[CV] END ..........................C=1, gamma=1, kernel=poly; total time=   2.1s\n",
            "[CV] END ..........................C=1, gamma=1, kernel=poly; total time=   1.6s\n",
            "[CV] END .......................C=1, gamma=1, kernel=sigmoid; total time=   0.1s\n",
            "[CV] END .......................C=1, gamma=1, kernel=sigmoid; total time=   0.1s\n",
            "[CV] END .......................C=1, gamma=1, kernel=sigmoid; total time=   0.1s\n",
            "[CV] END .......................C=1, gamma=1, kernel=sigmoid; total time=   0.1s\n",
            "[CV] END .......................C=1, gamma=1, kernel=sigmoid; total time=   0.1s\n",
            "[CV] END .........................C=1, gamma=0.1, kernel=rbf; total time=   0.1s\n",
            "[CV] END .........................C=1, gamma=0.1, kernel=rbf; total time=   0.1s\n",
            "[CV] END .........................C=1, gamma=0.1, kernel=rbf; total time=   0.1s\n",
            "[CV] END .........................C=1, gamma=0.1, kernel=rbf; total time=   0.1s\n",
            "[CV] END .........................C=1, gamma=0.1, kernel=rbf; total time=   0.1s\n",
            "[CV] END ........................C=1, gamma=0.1, kernel=poly; total time=   0.1s\n",
            "[CV] END ........................C=1, gamma=0.1, kernel=poly; total time=   0.1s\n",
            "[CV] END ........................C=1, gamma=0.1, kernel=poly; total time=   0.1s\n",
            "[CV] END ........................C=1, gamma=0.1, kernel=poly; total time=   0.1s\n",
            "[CV] END ........................C=1, gamma=0.1, kernel=poly; total time=   0.1s\n",
            "[CV] END .....................C=1, gamma=0.1, kernel=sigmoid; total time=   0.1s\n",
            "[CV] END .....................C=1, gamma=0.1, kernel=sigmoid; total time=   0.1s\n",
            "[CV] END .....................C=1, gamma=0.1, kernel=sigmoid; total time=   0.1s\n",
            "[CV] END .....................C=1, gamma=0.1, kernel=sigmoid; total time=   0.1s\n",
            "[CV] END .....................C=1, gamma=0.1, kernel=sigmoid; total time=   0.1s\n",
            "[CV] END ........................C=1, gamma=0.01, kernel=rbf; total time=   0.1s\n",
            "[CV] END ........................C=1, gamma=0.01, kernel=rbf; total time=   0.1s\n",
            "[CV] END ........................C=1, gamma=0.01, kernel=rbf; total time=   0.1s\n",
            "[CV] END ........................C=1, gamma=0.01, kernel=rbf; total time=   0.1s\n",
            "[CV] END ........................C=1, gamma=0.01, kernel=rbf; total time=   0.1s\n",
            "[CV] END .......................C=1, gamma=0.01, kernel=poly; total time=   0.1s\n",
            "[CV] END .......................C=1, gamma=0.01, kernel=poly; total time=   0.1s\n",
            "[CV] END .......................C=1, gamma=0.01, kernel=poly; total time=   0.1s\n",
            "[CV] END .......................C=1, gamma=0.01, kernel=poly; total time=   0.1s\n",
            "[CV] END .......................C=1, gamma=0.01, kernel=poly; total time=   0.1s\n",
            "[CV] END ....................C=1, gamma=0.01, kernel=sigmoid; total time=   0.1s\n",
            "[CV] END ....................C=1, gamma=0.01, kernel=sigmoid; total time=   0.1s\n",
            "[CV] END ....................C=1, gamma=0.01, kernel=sigmoid; total time=   0.1s\n",
            "[CV] END ....................C=1, gamma=0.01, kernel=sigmoid; total time=   0.1s\n",
            "[CV] END ....................C=1, gamma=0.01, kernel=sigmoid; total time=   0.1s\n",
            "[CV] END .......................C=1, gamma=0.001, kernel=rbf; total time=   0.1s\n",
            "[CV] END .......................C=1, gamma=0.001, kernel=rbf; total time=   0.1s\n",
            "[CV] END .......................C=1, gamma=0.001, kernel=rbf; total time=   0.1s\n",
            "[CV] END .......................C=1, gamma=0.001, kernel=rbf; total time=   0.1s\n",
            "[CV] END .......................C=1, gamma=0.001, kernel=rbf; total time=   0.1s\n",
            "[CV] END ......................C=1, gamma=0.001, kernel=poly; total time=   0.1s\n",
            "[CV] END ......................C=1, gamma=0.001, kernel=poly; total time=   0.0s\n",
            "[CV] END ......................C=1, gamma=0.001, kernel=poly; total time=   0.0s\n",
            "[CV] END ......................C=1, gamma=0.001, kernel=poly; total time=   0.1s\n",
            "[CV] END ......................C=1, gamma=0.001, kernel=poly; total time=   0.0s\n",
            "[CV] END ...................C=1, gamma=0.001, kernel=sigmoid; total time=   0.1s\n",
            "[CV] END ...................C=1, gamma=0.001, kernel=sigmoid; total time=   0.1s\n",
            "[CV] END ...................C=1, gamma=0.001, kernel=sigmoid; total time=   0.1s\n",
            "[CV] END ...................C=1, gamma=0.001, kernel=sigmoid; total time=   0.1s\n",
            "[CV] END ...................C=1, gamma=0.001, kernel=sigmoid; total time=   0.1s\n",
            "[CV] END ..........................C=10, gamma=1, kernel=rbf; total time=   0.2s\n",
            "[CV] END ..........................C=10, gamma=1, kernel=rbf; total time=   0.2s\n",
            "[CV] END ..........................C=10, gamma=1, kernel=rbf; total time=   0.2s\n",
            "[CV] END ..........................C=10, gamma=1, kernel=rbf; total time=   0.2s\n",
            "[CV] END ..........................C=10, gamma=1, kernel=rbf; total time=   0.2s\n",
            "[CV] END .........................C=10, gamma=1, kernel=poly; total time=  12.8s\n",
            "[CV] END .........................C=10, gamma=1, kernel=poly; total time=  10.3s\n",
            "[CV] END .........................C=10, gamma=1, kernel=poly; total time=  11.7s\n",
            "[CV] END .........................C=10, gamma=1, kernel=poly; total time=  13.6s\n",
            "[CV] END .........................C=10, gamma=1, kernel=poly; total time=  13.9s\n",
            "[CV] END ......................C=10, gamma=1, kernel=sigmoid; total time=   0.1s\n",
            "[CV] END ......................C=10, gamma=1, kernel=sigmoid; total time=   0.1s\n",
            "[CV] END ......................C=10, gamma=1, kernel=sigmoid; total time=   0.1s\n",
            "[CV] END ......................C=10, gamma=1, kernel=sigmoid; total time=   0.1s\n",
            "[CV] END ......................C=10, gamma=1, kernel=sigmoid; total time=   0.1s\n",
            "[CV] END ........................C=10, gamma=0.1, kernel=rbf; total time=   0.1s\n",
            "[CV] END ........................C=10, gamma=0.1, kernel=rbf; total time=   0.1s\n",
            "[CV] END ........................C=10, gamma=0.1, kernel=rbf; total time=   0.1s\n",
            "[CV] END ........................C=10, gamma=0.1, kernel=rbf; total time=   0.1s\n",
            "[CV] END ........................C=10, gamma=0.1, kernel=rbf; total time=   0.1s\n",
            "[CV] END .......................C=10, gamma=0.1, kernel=poly; total time=   0.1s\n",
            "[CV] END .......................C=10, gamma=0.1, kernel=poly; total time=   0.1s\n",
            "[CV] END .......................C=10, gamma=0.1, kernel=poly; total time=   0.1s\n",
            "[CV] END .......................C=10, gamma=0.1, kernel=poly; total time=   0.1s\n",
            "[CV] END .......................C=10, gamma=0.1, kernel=poly; total time=   0.1s\n",
            "[CV] END ....................C=10, gamma=0.1, kernel=sigmoid; total time=   0.1s\n",
            "[CV] END ....................C=10, gamma=0.1, kernel=sigmoid; total time=   0.1s\n",
            "[CV] END ....................C=10, gamma=0.1, kernel=sigmoid; total time=   0.1s\n",
            "[CV] END ....................C=10, gamma=0.1, kernel=sigmoid; total time=   0.1s\n",
            "[CV] END ....................C=10, gamma=0.1, kernel=sigmoid; total time=   0.1s\n",
            "[CV] END .......................C=10, gamma=0.01, kernel=rbf; total time=   0.1s\n",
            "[CV] END .......................C=10, gamma=0.01, kernel=rbf; total time=   0.1s\n",
            "[CV] END .......................C=10, gamma=0.01, kernel=rbf; total time=   0.1s\n",
            "[CV] END .......................C=10, gamma=0.01, kernel=rbf; total time=   0.1s\n",
            "[CV] END .......................C=10, gamma=0.01, kernel=rbf; total time=   0.1s\n",
            "[CV] END ......................C=10, gamma=0.01, kernel=poly; total time=   0.1s\n",
            "[CV] END ......................C=10, gamma=0.01, kernel=poly; total time=   0.1s\n",
            "[CV] END ......................C=10, gamma=0.01, kernel=poly; total time=   0.1s\n",
            "[CV] END ......................C=10, gamma=0.01, kernel=poly; total time=   0.1s\n",
            "[CV] END ......................C=10, gamma=0.01, kernel=poly; total time=   0.1s\n",
            "[CV] END ...................C=10, gamma=0.01, kernel=sigmoid; total time=   0.1s\n",
            "[CV] END ...................C=10, gamma=0.01, kernel=sigmoid; total time=   0.2s\n",
            "[CV] END ...................C=10, gamma=0.01, kernel=sigmoid; total time=   0.1s\n",
            "[CV] END ...................C=10, gamma=0.01, kernel=sigmoid; total time=   0.1s\n",
            "[CV] END ...................C=10, gamma=0.01, kernel=sigmoid; total time=   0.1s\n",
            "[CV] END ......................C=10, gamma=0.001, kernel=rbf; total time=   0.1s\n",
            "[CV] END ......................C=10, gamma=0.001, kernel=rbf; total time=   0.1s\n",
            "[CV] END ......................C=10, gamma=0.001, kernel=rbf; total time=   0.1s\n",
            "[CV] END ......................C=10, gamma=0.001, kernel=rbf; total time=   0.1s\n",
            "[CV] END ......................C=10, gamma=0.001, kernel=rbf; total time=   0.1s\n",
            "[CV] END .....................C=10, gamma=0.001, kernel=poly; total time=   0.0s\n",
            "[CV] END .....................C=10, gamma=0.001, kernel=poly; total time=   0.1s\n",
            "[CV] END .....................C=10, gamma=0.001, kernel=poly; total time=   0.0s\n",
            "[CV] END .....................C=10, gamma=0.001, kernel=poly; total time=   0.0s\n",
            "[CV] END .....................C=10, gamma=0.001, kernel=poly; total time=   0.1s\n",
            "[CV] END ..................C=10, gamma=0.001, kernel=sigmoid; total time=   0.1s\n",
            "[CV] END ..................C=10, gamma=0.001, kernel=sigmoid; total time=   0.1s\n",
            "[CV] END ..................C=10, gamma=0.001, kernel=sigmoid; total time=   0.1s\n",
            "[CV] END ..................C=10, gamma=0.001, kernel=sigmoid; total time=   0.1s\n",
            "[CV] END ..................C=10, gamma=0.001, kernel=sigmoid; total time=   0.1s\n",
            "[CV] END .........................C=100, gamma=1, kernel=rbf; total time=   0.2s\n",
            "[CV] END .........................C=100, gamma=1, kernel=rbf; total time=   0.2s\n",
            "[CV] END .........................C=100, gamma=1, kernel=rbf; total time=   0.2s\n",
            "[CV] END .........................C=100, gamma=1, kernel=rbf; total time=   0.2s\n",
            "[CV] END .........................C=100, gamma=1, kernel=rbf; total time=   0.2s\n",
            "[CV] END ........................C=100, gamma=1, kernel=poly; total time= 1.7min\n",
            "[CV] END ........................C=100, gamma=1, kernel=poly; total time= 2.1min\n",
            "[CV] END ........................C=100, gamma=1, kernel=poly; total time= 2.5min\n",
            "[CV] END ........................C=100, gamma=1, kernel=poly; total time= 2.3min\n"
          ]
        }
      ]
    },
    {
      "cell_type": "code",
      "source": [
        "print(grid.best_estimator_)"
      ],
      "metadata": {
        "colab": {
          "base_uri": "https://localhost:8080/"
        },
        "id": "P-zQ3KFNRD9a",
        "outputId": "0929f5ca-5330-47aa-ec15-23348dadb1d1"
      },
      "execution_count": null,
      "outputs": [
        {
          "output_type": "stream",
          "name": "stdout",
          "text": [
            "SVC(C=1, gamma=1)\n"
          ]
        }
      ]
    },
    {
      "cell_type": "code",
      "source": [
        "import numpy as np\n",
        "import matplotlib.pyplot as plt\n",
        "from sklearn.svm import SVC\n",
        "from sklearn.model_selection import cross_val_score\n",
        "import sklearn.metrics as metrics\n",
        "\n",
        "gamma_values=range(1,10,1)\n",
        "mean_f1=[]\n",
        "std_f1=[]\n",
        "\n",
        "for i in gamma_values:\n",
        "  SVCModel=SVC(C=6, gamma=i)\n",
        "  SVCModel.fit(X_train,Y_train)\n",
        "  ypred=SVCModel.predict(X_test)\n",
        "  f1_scores = cross_val_score(SVCModel, X, Y, cv=5, scoring='f1_macro', n_jobs=-1)\n",
        "  mean_f1.append(np.array(f1_scores).mean())\n",
        "  std_f1.append(np.array(f1_scores).std())"
      ],
      "metadata": {
        "colab": {
          "base_uri": "https://localhost:8080/"
        },
        "id": "J5Ydx46RhYWL",
        "outputId": "b79c826a-e10c-4a88-efc5-0003269bb162"
      },
      "execution_count": null,
      "outputs": [
        {
          "output_type": "stream",
          "name": "stderr",
          "text": [
            "/usr/local/lib/python3.8/dist-packages/sklearn/model_selection/_split.py:676: UserWarning: The least populated class in y has only 1 members, which is less than n_splits=5.\n",
            "  warnings.warn(\n",
            "/usr/local/lib/python3.8/dist-packages/sklearn/model_selection/_split.py:676: UserWarning: The least populated class in y has only 1 members, which is less than n_splits=5.\n",
            "  warnings.warn(\n",
            "/usr/local/lib/python3.8/dist-packages/sklearn/model_selection/_split.py:676: UserWarning: The least populated class in y has only 1 members, which is less than n_splits=5.\n",
            "  warnings.warn(\n",
            "/usr/local/lib/python3.8/dist-packages/sklearn/model_selection/_split.py:676: UserWarning: The least populated class in y has only 1 members, which is less than n_splits=5.\n",
            "  warnings.warn(\n",
            "/usr/local/lib/python3.8/dist-packages/sklearn/model_selection/_split.py:676: UserWarning: The least populated class in y has only 1 members, which is less than n_splits=5.\n",
            "  warnings.warn(\n",
            "/usr/local/lib/python3.8/dist-packages/sklearn/model_selection/_split.py:676: UserWarning: The least populated class in y has only 1 members, which is less than n_splits=5.\n",
            "  warnings.warn(\n",
            "/usr/local/lib/python3.8/dist-packages/sklearn/model_selection/_split.py:676: UserWarning: The least populated class in y has only 1 members, which is less than n_splits=5.\n",
            "  warnings.warn(\n",
            "/usr/local/lib/python3.8/dist-packages/sklearn/model_selection/_split.py:676: UserWarning: The least populated class in y has only 1 members, which is less than n_splits=5.\n",
            "  warnings.warn(\n",
            "/usr/local/lib/python3.8/dist-packages/sklearn/model_selection/_split.py:676: UserWarning: The least populated class in y has only 1 members, which is less than n_splits=5.\n",
            "  warnings.warn(\n"
          ]
        }
      ]
    },
    {
      "cell_type": "code",
      "source": [
        "#plotting cross validation\n",
        "fig=plt.figure()\n",
        "fig.set_size_inches(15.5, 10.5)\n",
        "ax=fig.add_subplot(111)\n",
        "ax.errorbar(gamma_values,mean_f1,label='mean',yerr=std_f1)\n",
        "ax.set_ylabel(\"F1 score\")\n",
        "ax.set_xlabel(\"gamma_values\")\n",
        "ax.legend(bbox_to_anchor=(1.05, 1),loc='upper left', borderaxespad=0.)"
      ],
      "metadata": {
        "colab": {
          "base_uri": "https://localhost:8080/",
          "height": 411
        },
        "id": "WiZtxHZ0io_0",
        "outputId": "0fe79d9f-fc64-4084-ff56-d7b2033f7995"
      },
      "execution_count": null,
      "outputs": [
        {
          "output_type": "execute_result",
          "data": {
            "text/plain": [
              "<matplotlib.legend.Legend at 0x7fbaf6bbc430>"
            ]
          },
          "metadata": {},
          "execution_count": 9
        },
        {
          "output_type": "display_data",
          "data": {
            "text/plain": [
              "<Figure size 1116x756 with 1 Axes>"
            ],
            "image/png": "[encoded data removed]"
          },
          "metadata": {
            "needs_background": "light"
          }
        }
      ]
    },
    {
      "cell_type": "code",
      "source": [
        "import numpy as np\n",
        "import matplotlib.pyplot as plt\n",
        "from sklearn.svm import SVC\n",
        "from sklearn.model_selection import cross_val_score\n",
        "import sklearn.metrics as metrics\n",
        "\n",
        "c_values=range(1,10,1)\n",
        "mean_f1=[]\n",
        "std_f1=[]\n",
        "\n",
        "for i in c_values:\n",
        "  SVCModel=SVC(C=i, gamma=1)\n",
        "  SVCModel.fit(X_train,Y_train)\n",
        "  ypred=SVCModel.predict(X_test)\n",
        "  f1_scores = cross_val_score(SVCModel, X, Y, cv=5, scoring='f1_macro', n_jobs=-1)\n",
        "  mean_f1.append(np.array(f1_scores).mean())\n",
        "  std_f1.append(np.array(f1_scores).std())"
      ],
      "metadata": {
        "colab": {
          "base_uri": "https://localhost:8080/"
        },
        "id": "wi_hcVndicm5",
        "outputId": "719316ac-142d-4319-8c4e-025dc4c93fa4"
      },
      "execution_count": null,
      "outputs": [
        {
          "output_type": "stream",
          "name": "stderr",
          "text": [
            "/usr/local/lib/python3.8/dist-packages/sklearn/model_selection/_split.py:676: UserWarning: The least populated class in y has only 1 members, which is less than n_splits=5.\n",
            "  warnings.warn(\n",
            "/usr/local/lib/python3.8/dist-packages/sklearn/model_selection/_split.py:676: UserWarning: The least populated class in y has only 1 members, which is less than n_splits=5.\n",
            "  warnings.warn(\n",
            "/usr/local/lib/python3.8/dist-packages/sklearn/model_selection/_split.py:676: UserWarning: The least populated class in y has only 1 members, which is less than n_splits=5.\n",
            "  warnings.warn(\n",
            "/usr/local/lib/python3.8/dist-packages/sklearn/model_selection/_split.py:676: UserWarning: The least populated class in y has only 1 members, which is less than n_splits=5.\n",
            "  warnings.warn(\n",
            "/usr/local/lib/python3.8/dist-packages/sklearn/model_selection/_split.py:676: UserWarning: The least populated class in y has only 1 members, which is less than n_splits=5.\n",
            "  warnings.warn(\n",
            "/usr/local/lib/python3.8/dist-packages/sklearn/model_selection/_split.py:676: UserWarning: The least populated class in y has only 1 members, which is less than n_splits=5.\n",
            "  warnings.warn(\n",
            "/usr/local/lib/python3.8/dist-packages/sklearn/model_selection/_split.py:676: UserWarning: The least populated class in y has only 1 members, which is less than n_splits=5.\n",
            "  warnings.warn(\n",
            "/usr/local/lib/python3.8/dist-packages/sklearn/model_selection/_split.py:676: UserWarning: The least populated class in y has only 1 members, which is less than n_splits=5.\n",
            "  warnings.warn(\n",
            "/usr/local/lib/python3.8/dist-packages/sklearn/model_selection/_split.py:676: UserWarning: The least populated class in y has only 1 members, which is less than n_splits=5.\n",
            "  warnings.warn(\n"
          ]
        }
      ]
    },
    {
      "cell_type": "code",
      "source": [
        "#plotting cross validation\n",
        "fig=plt.figure()\n",
        "fig.set_size_inches(15.5, 10.5)\n",
        "ax=fig.add_subplot(111)\n",
        "ax.errorbar(c_values,mean_f1,label='mean',yerr=std_f1)\n",
        "ax.set_ylabel(\"F1 score\")\n",
        "ax.set_xlabel(\"c_values\")\n",
        "ax.legend(bbox_to_anchor=(1.05, 1),loc='upper left', borderaxespad=0.)"
      ],
      "metadata": {
        "colab": {
          "base_uri": "https://localhost:8080/",
          "height": 411
        },
        "id": "cZ-Xpr5Vjgvo",
        "outputId": "f9c893ee-9f47-4b15-e510-388e7b2e052e"
      },
      "execution_count": null,
      "outputs": [
        {
          "output_type": "execute_result",
          "data": {
            "text/plain": [
              "<matplotlib.legend.Legend at 0x7fbaf5c0f910>"
            ]
          },
          "metadata": {},
          "execution_count": 11
        },
        {
          "output_type": "display_data",
          "data": {
            "text/plain": [
              "<Figure size 1116x756 with 1 Axes>"
            ],
            "image/png": "[encoded data removed]"
          },
          "metadata": {
            "needs_background": "light"
          }
        }
      ]
    },
    {
      "cell_type": "code",
      "source": [
        "import numpy as np\n",
        "import matplotlib.pyplot as plt\n",
        "from sklearn.svm import SVC\n",
        "import sklearn.metrics as metrics\n",
        "\n",
        "SVCModel=SVC(C=6, gamma=1)\n",
        "SVCModel.fit(X_train,Y_train)"
      ],
      "metadata": {
        "colab": {
          "base_uri": "https://localhost:8080/"
        },
        "id": "dVp65epzkMVC",
        "outputId": "f3a2f3e1-55ad-43d1-e662-53e0a3418605"
      },
      "execution_count": null,
      "outputs": [
        {
          "output_type": "execute_result",
          "data": {
            "text/plain": [
              "SVC(C=6, gamma=1)"
            ]
          },
          "metadata": {},
          "execution_count": 12
        }
      ]
    },
    {
      "cell_type": "code",
      "source": [
        "from sklearn.metrics import plot_confusion_matrix\n",
        "y_pred=SVCModel.predict(X_train)\n",
        "print(\"Accuracy score:\",metrics.accuracy_score(Y_train, y_pred))\n",
        "print(\"Precision Score : \",metrics.precision_score(Y_train,y_pred,pos_label='positive',average='weighted'))\n",
        "print(\"Recall Score :\" , metrics.recall_score(Y_train, y_pred, pos_label='positive',average='weighted') )\n",
        "print(\"F1 Score :\" , metrics.f1_score(Y_train, y_pred, pos_label='positive',average='weighted') )\n",
        "\n",
        "print(metrics.confusion_matrix(Y_train,y_pred))\n",
        "plot_confusion_matrix(SVCModel, X_train, y_pred)  \n",
        "plt.show()"
      ],
      "metadata": {
        "colab": {
          "base_uri": "https://localhost:8080/",
          "height": 758
        },
        "id": "hpJ-lExMkTWS",
        "outputId": "be391514-554e-4c88-edb2-c3b82dd1e13e"
      },
      "execution_count": null,
      "outputs": [
        {
          "output_type": "stream",
          "name": "stdout",
          "text": [
            "Accuracy score: 0.8762711864406779\n",
            "Precision Score :  0.8805841756664553\n",
            "Recall Score : 0.8762711864406779\n",
            "F1 Score : 0.8751577636644514\n",
            "[[ 18   2   0   0   0   0   0   0   0   0   0   1   0   0   0]\n",
            " [  0 170   0  20   0   0   0   0   0   0   0  13   0   0   0]\n",
            " [  0   0   6   0   0   0   0   0   0   0   0   0   0   0   0]\n",
            " [  0  19   0 393   0   0   0   0   0   0   0  15   0   0   0]\n",
            " [  0   1   0   0  30   0   0   0   0   0   0   0   1   0   0]\n",
            " [  0   1   0   6   0  13   0   0   0   0   0   4   0   0   0]\n",
            " [  0   0   0   0   0   0   9   0   0   0   0   0   0   0   0]\n",
            " [  0   1   0   1   0   0   0  20   0   0   0   1   0   0   0]\n",
            " [  0   5   0   5   0   0   0   0  14   0   0   0   0   0   0]\n",
            " [  0   0   0   0   0   0   0   0   0   9   0   1   0   0   0]\n",
            " [  0   0   0   0   0   0   0   0   0   0   2   0   0   0   0]\n",
            " [  0  10   0  26   0   0   0   0   0   0   0 284   2   0   0]\n",
            " [  0   1   0   3   0   0   0   0   0   0   0   3  28   0   0]\n",
            " [  0   0   0   0   0   0   0   0   0   0   0   4   0  37   0]\n",
            " [  0   0   0   0   0   0   0   0   0   0   0   0   0   0   1]]\n"
          ]
        },
        {
          "output_type": "stream",
          "name": "stderr",
          "text": [
            "/usr/local/lib/python3.8/dist-packages/sklearn/metrics/_classification.py:1370: UserWarning: Note that pos_label (set to 'positive') is ignored when average != 'binary' (got 'weighted'). You may use labels=[pos_label] to specify a single positive class.\n",
            "  warnings.warn(\n",
            "/usr/local/lib/python3.8/dist-packages/sklearn/metrics/_classification.py:1370: UserWarning: Note that pos_label (set to 'positive') is ignored when average != 'binary' (got 'weighted'). You may use labels=[pos_label] to specify a single positive class.\n",
            "  warnings.warn(\n",
            "/usr/local/lib/python3.8/dist-packages/sklearn/metrics/_classification.py:1370: UserWarning: Note that pos_label (set to 'positive') is ignored when average != 'binary' (got 'weighted'). You may use labels=[pos_label] to specify a single positive class.\n",
            "  warnings.warn(\n",
            "/usr/local/lib/python3.8/dist-packages/sklearn/utils/deprecation.py:87: FutureWarning: Function plot_confusion_matrix is deprecated; Function `plot_confusion_matrix` is deprecated in 1.0 and will be removed in 1.2. Use one of the class methods: ConfusionMatrixDisplay.from_predictions or ConfusionMatrixDisplay.from_estimator.\n",
            "  warnings.warn(msg, category=FutureWarning)\n"
          ]
        },
        {
          "output_type": "display_data",
          "data": {
            "text/plain": [
              "<Figure size 432x288 with 2 Axes>"
            ],
            "image/png": "[encoded data removed]"
          },
          "metadata": {
            "needs_background": "light"
          }
        }
      ]
    },
    {
      "cell_type": "code",
      "source": [
        "y_pred=SVCModel.predict(X_test)\n",
        "print(\"Accuracy score:\",metrics.accuracy_score(Y_test, y_pred))\n",
        "print(\"Precision Score : \",metrics.precision_score(Y_test,y_pred,pos_label='positive',average='weighted'))\n",
        "print(\"Recall Score :\" , metrics.recall_score(Y_test, y_pred, pos_label='positive',average='weighted') )\n",
        "print(\"F1 Score :\" , metrics.f1_score(Y_test, y_pred, pos_label='positive',average='weighted') )\n",
        "\n",
        "print(metrics.confusion_matrix(Y_test,y_pred))\n",
        "plot_confusion_matrix(SVCModel, X_test, y_pred)  \n",
        "plt.show()"
      ],
      "metadata": {
        "colab": {
          "base_uri": "https://localhost:8080/",
          "height": 775
        },
        "id": "MZkkR7UIkWPc",
        "outputId": "a51285d5-3eca-4e72-a3ca-4292d9d82783"
      },
      "execution_count": null,
      "outputs": [
        {
          "output_type": "stream",
          "name": "stdout",
          "text": [
            "Accuracy score: 0.41222879684418146\n",
            "Precision Score :  0.38995284039491834\n",
            "Recall Score : 0.41222879684418146\n",
            "F1 Score : 0.3852757617235586\n",
            "[[  0   1   0   7   0   0   0   0   0   0   0   2   0   0]\n",
            " [  0  28   0  29   0   1   0   0   1   0   0  16   0   1]\n",
            " [  0   0   0   1   0   0   0   0   0   0   0   0   0   0]\n",
            " [  0  23   3 110   2   2   0   2   0   1   0  43   0   0]\n",
            " [  1   2   0   5   3   0   0   0   0   0   0   1   0   0]\n",
            " [  0   2   0   4   0   0   0   0   0   0   0   3   0   0]\n",
            " [  0   0   0   0   0   0   2   0   0   0   0   4   0   0]\n",
            " [  0   2   0  11   0   0   0   1   0   0   0   5   0   0]\n",
            " [  0   2   0  10   0   0   0   0   1   0   0   1   0   1]\n",
            " [  0   0   0   4   0   0   0   0   0   0   0   2   0   1]\n",
            " [  0   0   0   0   0   0   0   0   0   0   0   1   0   0]\n",
            " [  1  16   0  50   0   0   1   1   1   0   0  60   2   1]\n",
            " [  0   2   0   7   0   0   1   0   0   0   0   3   2   0]\n",
            " [  0   4   0   9   0   0   0   0   0   0   0   2   0   2]]\n"
          ]
        },
        {
          "output_type": "stream",
          "name": "stderr",
          "text": [
            "/usr/local/lib/python3.8/dist-packages/sklearn/metrics/_classification.py:1370: UserWarning: Note that pos_label (set to 'positive') is ignored when average != 'binary' (got 'weighted'). You may use labels=[pos_label] to specify a single positive class.\n",
            "  warnings.warn(\n",
            "/usr/local/lib/python3.8/dist-packages/sklearn/metrics/_classification.py:1318: UndefinedMetricWarning: Precision is ill-defined and being set to 0.0 in labels with no predicted samples. Use `zero_division` parameter to control this behavior.\n",
            "  _warn_prf(average, modifier, msg_start, len(result))\n",
            "/usr/local/lib/python3.8/dist-packages/sklearn/metrics/_classification.py:1370: UserWarning: Note that pos_label (set to 'positive') is ignored when average != 'binary' (got 'weighted'). You may use labels=[pos_label] to specify a single positive class.\n",
            "  warnings.warn(\n",
            "/usr/local/lib/python3.8/dist-packages/sklearn/metrics/_classification.py:1370: UserWarning: Note that pos_label (set to 'positive') is ignored when average != 'binary' (got 'weighted'). You may use labels=[pos_label] to specify a single positive class.\n",
            "  warnings.warn(\n",
            "/usr/local/lib/python3.8/dist-packages/sklearn/utils/deprecation.py:87: FutureWarning: Function plot_confusion_matrix is deprecated; Function `plot_confusion_matrix` is deprecated in 1.0 and will be removed in 1.2. Use one of the class methods: ConfusionMatrixDisplay.from_predictions or ConfusionMatrixDisplay.from_estimator.\n",
            "  warnings.warn(msg, category=FutureWarning)\n"
          ]
        },
        {
          "output_type": "display_data",
          "data": {
            "text/plain": [
              "<Figure size 432x288 with 2 Axes>"
            ],
            "image/png": "[encoded data removed]"
          },
          "metadata": {
            "needs_background": "light"
          }
        }
      ]
    },
    {
      "cell_type": "code",
      "source": [],
      "metadata": {
        "id": "NE7keVziFfxD"
      },
      "execution_count": null,
      "outputs": []
    }
  ]
}