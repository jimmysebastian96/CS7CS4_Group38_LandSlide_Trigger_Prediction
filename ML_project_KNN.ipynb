{
  "nbformat": 4,
  "nbformat_minor": 0,
  "metadata": {
    "colab": {
      "provenance": []
    },
    "kernelspec": {
      "name": "python3",
      "display_name": "Python 3"
    },
    "language_info": {
      "name": "python"
    }
  },
  "cells": [
    {
      "cell_type": "code",
      "execution_count": null,
      "metadata": {
        "id": "k2fybywuptjB"
      },
      "outputs": [],
      "source": [
        "import pandas as pd\n",
        "df = pd.read_csv(\"formated_data3.csv\",encoding=\"ISO-8859-1\")\n",
        "df['event_date']=pd.to_datetime(df[\"event_date\"],infer_datetime_format=True)"
      ]
    },
    {
      "cell_type": "code",
      "source": [
        "#dropping empty and rows with unknown\n",
        "df.dropna(\n",
        "    axis=0,\n",
        "    how='any',\n",
        "    thresh=None,\n",
        "    subset=None,\n",
        "    inplace=True\n",
        ")\n",
        "df = df[df.landslide_trigger != 'unknown']\n",
        "df = df[df.landslide_setting != 'unknown']\n",
        "df.drop_duplicates()"
      ],
      "metadata": {
        "colab": {
          "base_uri": "https://localhost:8080/",
          "height": 653
        },
        "id": "UD8ALeNfqV71",
        "outputId": "83607c26-9f6b-4171-9966-4a051688e316"
      },
      "execution_count": null,
      "outputs": [
        {
          "output_type": "execute_result",
          "data": {
            "text/plain": [
              "              event_date landslide_category landslide_trigger landslide_size  \\\n",
              "0    2015-05-17 00:00:00          landslide              rain         medium   \n",
              "1    2016-10-01 00:00:00          landslide          downpour         medium   \n",
              "2    2015-04-02 00:00:00          landslide   continuous_rain         medium   \n",
              "3    2015-07-19 00:00:00          landslide          downpour          small   \n",
              "4    2015-10-21 00:00:00          landslide              rain         medium   \n",
              "...                  ...                ...               ...            ...   \n",
              "1702 2015-03-05 09:00:00           mudslide              rain          small   \n",
              "1703 2014-12-02 00:00:00        debris_flow              rain         medium   \n",
              "1704 2016-10-24 23:00:00          rock_fall      construction         medium   \n",
              "1705 2015-11-16 09:00:00          landslide          downpour         medium   \n",
              "1706 2015-01-20 00:00:00          landslide          downpour         medium   \n",
              "\n",
              "     landslide_setting  fatality_count  injury_count country_code  \\\n",
              "0                urban               0             0           MX   \n",
              "1                bluff               0             0           GB   \n",
              "2        natural_slope               0             0           IN   \n",
              "3           above_road               0             0           US   \n",
              "4           above_road               0             0           MX   \n",
              "...                ...             ...           ...          ...   \n",
              "1702        above_road               0             0           US   \n",
              "1703       burned_area               0             0           US   \n",
              "1704              mine               0             2           CA   \n",
              "1705     natural_slope               0             0           MY   \n",
              "1706              mine               2             3           PK   \n",
              "\n",
              "     admin_division_name  admin_division_population  longitude  latitude  \\\n",
              "0        Baja California                       1173  -117.0898   32.5196   \n",
              "1                England                       2565     0.8546   51.4216   \n",
              "2                Kashmir                      14965    74.4725   34.1587   \n",
              "3             California                      20292  -116.9029   33.0742   \n",
              "4                Chiapas                      19092   -92.2523   15.3482   \n",
              "...                  ...                        ...        ...       ...   \n",
              "1702       West Virginia                       1344   -81.2565   37.7028   \n",
              "1703          California                       3249  -118.9858   34.1946   \n",
              "1704    British Columbia                       4038  -116.4362   51.4197   \n",
              "1705        Kuala Lumpur                    1453975   101.7036    3.1497   \n",
              "1706         Balochist?n                       7630    67.3799   30.6218   \n",
              "\n",
              "      temp  humidity  wind  \n",
              "0     16.4      74.0  13.6  \n",
              "1     12.3      88.0  11.3  \n",
              "2      5.2      92.0   4.3  \n",
              "3     21.3      93.0  11.8  \n",
              "4     18.2      92.0   3.6  \n",
              "...    ...       ...   ...  \n",
              "1702  -0.9      95.0  14.3  \n",
              "1703  17.8      73.0   3.3  \n",
              "1704   3.9      81.0   4.3  \n",
              "1705  27.4      82.0   3.7  \n",
              "1706   2.0      78.0   7.0  \n",
              "\n",
              "[1683 rows x 15 columns]"
            ],
            "text/html": [
              "\n",
              "  <div id=\"df-a6543a0c-f09b-4bbb-8db2-914cc4e95b16\">\n",
              "    <div class=\"colab-df-container\">\n",
              "      <div>\n",
              "<style scoped>\n",
              "    .dataframe tbody tr th:only-of-type {\n",
              "        vertical-align: middle;\n",
              "    }\n",
              "\n",
              "    .dataframe tbody tr th {\n",
              "        vertical-align: top;\n",
              "    }\n",
              "\n",
              "    .dataframe thead th {\n",
              "        text-align: right;\n",
              "    }\n",
              "</style>\n",
              "<table border=\"1\" class=\"dataframe\">\n",
              "  <thead>\n",
              "    <tr style=\"text-align: right;\">\n",
              "      <th></th>\n",
              "      <th>event_date</th>\n",
              "      <th>landslide_category</th>\n",
              "      <th>landslide_trigger</th>\n",
              "      <th>landslide_size</th>\n",
              "      <th>landslide_setting</th>\n",
              "      <th>fatality_count</th>\n",
              "      <th>injury_count</th>\n",
              "      <th>country_code</th>\n",
              "      <th>admin_division_name</th>\n",
              "      <th>admin_division_population</th>\n",
              "      <th>longitude</th>\n",
              "      <th>latitude</th>\n",
              "      <th>temp</th>\n",
              "      <th>humidity</th>\n",
              "      <th>wind</th>\n",
              "    </tr>\n",
              "  </thead>\n",
              "  <tbody>\n",
              "    <tr>\n",
              "      <th>0</th>\n",
              "      <td>2015-05-17 00:00:00</td>\n",
              "      <td>landslide</td>\n",
              "      <td>rain</td>\n",
              "      <td>medium</td>\n",
              "      <td>urban</td>\n",
              "      <td>0</td>\n",
              "      <td>0</td>\n",
              "      <td>MX</td>\n",
              "      <td>Baja California</td>\n",
              "      <td>1173</td>\n",
              "      <td>-117.0898</td>\n",
              "      <td>32.5196</td>\n",
              "      <td>16.4</td>\n",
              "      <td>74.0</td>\n",
              "      <td>13.6</td>\n",
              "    </tr>\n",
              "    <tr>\n",
              "      <th>1</th>\n",
              "      <td>2016-10-01 00:00:00</td>\n",
              "      <td>landslide</td>\n",
              "      <td>downpour</td>\n",
              "      <td>medium</td>\n",
              "      <td>bluff</td>\n",
              "      <td>0</td>\n",
              "      <td>0</td>\n",
              "      <td>GB</td>\n",
              "      <td>England</td>\n",
              "      <td>2565</td>\n",
              "      <td>0.8546</td>\n",
              "      <td>51.4216</td>\n",
              "      <td>12.3</td>\n",
              "      <td>88.0</td>\n",
              "      <td>11.3</td>\n",
              "    </tr>\n",
              "    <tr>\n",
              "      <th>2</th>\n",
              "      <td>2015-04-02 00:00:00</td>\n",
              "      <td>landslide</td>\n",
              "      <td>continuous_rain</td>\n",
              "      <td>medium</td>\n",
              "      <td>natural_slope</td>\n",
              "      <td>0</td>\n",
              "      <td>0</td>\n",
              "      <td>IN</td>\n",
              "      <td>Kashmir</td>\n",
              "      <td>14965</td>\n",
              "      <td>74.4725</td>\n",
              "      <td>34.1587</td>\n",
              "      <td>5.2</td>\n",
              "      <td>92.0</td>\n",
              "      <td>4.3</td>\n",
              "    </tr>\n",
              "    <tr>\n",
              "      <th>3</th>\n",
              "      <td>2015-07-19 00:00:00</td>\n",
              "      <td>landslide</td>\n",
              "      <td>downpour</td>\n",
              "      <td>small</td>\n",
              "      <td>above_road</td>\n",
              "      <td>0</td>\n",
              "      <td>0</td>\n",
              "      <td>US</td>\n",
              "      <td>California</td>\n",
              "      <td>20292</td>\n",
              "      <td>-116.9029</td>\n",
              "      <td>33.0742</td>\n",
              "      <td>21.3</td>\n",
              "      <td>93.0</td>\n",
              "      <td>11.8</td>\n",
              "    </tr>\n",
              "    <tr>\n",
              "      <th>4</th>\n",
              "      <td>2015-10-21 00:00:00</td>\n",
              "      <td>landslide</td>\n",
              "      <td>rain</td>\n",
              "      <td>medium</td>\n",
              "      <td>above_road</td>\n",
              "      <td>0</td>\n",
              "      <td>0</td>\n",
              "      <td>MX</td>\n",
              "      <td>Chiapas</td>\n",
              "      <td>19092</td>\n",
              "      <td>-92.2523</td>\n",
              "      <td>15.3482</td>\n",
              "      <td>18.2</td>\n",
              "      <td>92.0</td>\n",
              "      <td>3.6</td>\n",
              "    </tr>\n",
              "    <tr>\n",
              "      <th>...</th>\n",
              "      <td>...</td>\n",
              "      <td>...</td>\n",
              "      <td>...</td>\n",
              "      <td>...</td>\n",
              "      <td>...</td>\n",
              "      <td>...</td>\n",
              "      <td>...</td>\n",
              "      <td>...</td>\n",
              "      <td>...</td>\n",
              "      <td>...</td>\n",
              "      <td>...</td>\n",
              "      <td>...</td>\n",
              "      <td>...</td>\n",
              "      <td>...</td>\n",
              "      <td>...</td>\n",
              "    </tr>\n",
              "    <tr>\n",
              "      <th>1702</th>\n",
              "      <td>2015-03-05 09:00:00</td>\n",
              "      <td>mudslide</td>\n",
              "      <td>rain</td>\n",
              "      <td>small</td>\n",
              "      <td>above_road</td>\n",
              "      <td>0</td>\n",
              "      <td>0</td>\n",
              "      <td>US</td>\n",
              "      <td>West Virginia</td>\n",
              "      <td>1344</td>\n",
              "      <td>-81.2565</td>\n",
              "      <td>37.7028</td>\n",
              "      <td>-0.9</td>\n",
              "      <td>95.0</td>\n",
              "      <td>14.3</td>\n",
              "    </tr>\n",
              "    <tr>\n",
              "      <th>1703</th>\n",
              "      <td>2014-12-02 00:00:00</td>\n",
              "      <td>debris_flow</td>\n",
              "      <td>rain</td>\n",
              "      <td>medium</td>\n",
              "      <td>burned_area</td>\n",
              "      <td>0</td>\n",
              "      <td>0</td>\n",
              "      <td>US</td>\n",
              "      <td>California</td>\n",
              "      <td>3249</td>\n",
              "      <td>-118.9858</td>\n",
              "      <td>34.1946</td>\n",
              "      <td>17.8</td>\n",
              "      <td>73.0</td>\n",
              "      <td>3.3</td>\n",
              "    </tr>\n",
              "    <tr>\n",
              "      <th>1704</th>\n",
              "      <td>2016-10-24 23:00:00</td>\n",
              "      <td>rock_fall</td>\n",
              "      <td>construction</td>\n",
              "      <td>medium</td>\n",
              "      <td>mine</td>\n",
              "      <td>0</td>\n",
              "      <td>2</td>\n",
              "      <td>CA</td>\n",
              "      <td>British Columbia</td>\n",
              "      <td>4038</td>\n",
              "      <td>-116.4362</td>\n",
              "      <td>51.4197</td>\n",
              "      <td>3.9</td>\n",
              "      <td>81.0</td>\n",
              "      <td>4.3</td>\n",
              "    </tr>\n",
              "    <tr>\n",
              "      <th>1705</th>\n",
              "      <td>2015-11-16 09:00:00</td>\n",
              "      <td>landslide</td>\n",
              "      <td>downpour</td>\n",
              "      <td>medium</td>\n",
              "      <td>natural_slope</td>\n",
              "      <td>0</td>\n",
              "      <td>0</td>\n",
              "      <td>MY</td>\n",
              "      <td>Kuala Lumpur</td>\n",
              "      <td>1453975</td>\n",
              "      <td>101.7036</td>\n",
              "      <td>3.1497</td>\n",
              "      <td>27.4</td>\n",
              "      <td>82.0</td>\n",
              "      <td>3.7</td>\n",
              "    </tr>\n",
              "    <tr>\n",
              "      <th>1706</th>\n",
              "      <td>2015-01-20 00:00:00</td>\n",
              "      <td>landslide</td>\n",
              "      <td>downpour</td>\n",
              "      <td>medium</td>\n",
              "      <td>mine</td>\n",
              "      <td>2</td>\n",
              "      <td>3</td>\n",
              "      <td>PK</td>\n",
              "      <td>Balochist?n</td>\n",
              "      <td>7630</td>\n",
              "      <td>67.3799</td>\n",
              "      <td>30.6218</td>\n",
              "      <td>2.0</td>\n",
              "      <td>78.0</td>\n",
              "      <td>7.0</td>\n",
              "    </tr>\n",
              "  </tbody>\n",
              "</table>\n",
              "<p>1683 rows × 15 columns</p>\n",
              "</div>\n",
              "      <button class=\"colab-df-convert\" onclick=\"convertToInteractive('df-a6543a0c-f09b-4bbb-8db2-914cc4e95b16')\"\n",
              "              title=\"Convert this dataframe to an interactive table.\"\n",
              "              style=\"display:none;\">\n",
              "        \n",
              "  <svg xmlns=\"http://www.w3.org/2000/svg\" height=\"24px\"viewBox=\"0 0 24 24\"\n",
              "       width=\"24px\">\n",
              "    <path d=\"M0 0h24v24H0V0z\" fill=\"none\"/>\n",
              "    <path d=\"M18.56 5.44l.94 2.06.94-2.06 2.06-.94-2.06-.94-.94-2.06-.94 2.06-2.06.94zm-11 1L8.5 8.5l.94-2.06 2.06-.94-2.06-.94L8.5 2.5l-.94 2.06-2.06.94zm10 10l.94 2.06.94-2.06 2.06-.94-2.06-.94-.94-2.06-.94 2.06-2.06.94z\"/><path d=\"M17.41 7.96l-1.37-1.37c-.4-.4-.92-.59-1.43-.59-.52 0-1.04.2-1.43.59L10.3 9.45l-7.72 7.72c-.78.78-.78 2.05 0 2.83L4 21.41c.39.39.9.59 1.41.59.51 0 1.02-.2 1.41-.59l7.78-7.78 2.81-2.81c.8-.78.8-2.07 0-2.86zM5.41 20L4 18.59l7.72-7.72 1.47 1.35L5.41 20z\"/>\n",
              "  </svg>\n",
              "      </button>\n",
              "      \n",
              "  <style>\n",
              "    .colab-df-container {\n",
              "      display:flex;\n",
              "      flex-wrap:wrap;\n",
              "      gap: 12px;\n",
              "    }\n",
              "\n",
              "    .colab-df-convert {\n",
              "      background-color: #E8F0FE;\n",
              "      border: none;\n",
              "      border-radius: 50%;\n",
              "      cursor: pointer;\n",
              "      display: none;\n",
              "      fill: #1967D2;\n",
              "      height: 32px;\n",
              "      padding: 0 0 0 0;\n",
              "      width: 32px;\n",
              "    }\n",
              "\n",
              "    .colab-df-convert:hover {\n",
              "      background-color: #E2EBFA;\n",
              "      box-shadow: 0px 1px 2px rgba(60, 64, 67, 0.3), 0px 1px 3px 1px rgba(60, 64, 67, 0.15);\n",
              "      fill: #174EA6;\n",
              "    }\n",
              "\n",
              "    [theme=dark] .colab-df-convert {\n",
              "      background-color: #3B4455;\n",
              "      fill: #D2E3FC;\n",
              "    }\n",
              "\n",
              "    [theme=dark] .colab-df-convert:hover {\n",
              "      background-color: #434B5C;\n",
              "      box-shadow: 0px 1px 3px 1px rgba(0, 0, 0, 0.15);\n",
              "      filter: drop-shadow(0px 1px 2px rgba(0, 0, 0, 0.3));\n",
              "      fill: #FFFFFF;\n",
              "    }\n",
              "  </style>\n",
              "\n",
              "      <script>\n",
              "        const buttonEl =\n",
              "          document.querySelector('#df-a6543a0c-f09b-4bbb-8db2-914cc4e95b16 button.colab-df-convert');\n",
              "        buttonEl.style.display =\n",
              "          google.colab.kernel.accessAllowed ? 'block' : 'none';\n",
              "\n",
              "        async function convertToInteractive(key) {\n",
              "          const element = document.querySelector('#df-a6543a0c-f09b-4bbb-8db2-914cc4e95b16');\n",
              "          const dataTable =\n",
              "            await google.colab.kernel.invokeFunction('convertToInteractive',\n",
              "                                                     [key], {});\n",
              "          if (!dataTable) return;\n",
              "\n",
              "          const docLinkHtml = 'Like what you see? Visit the ' +\n",
              "            '<a target=\"_blank\" href=https://colab.research.google.com/notebooks/data_table.ipynb>data table notebook</a>'\n",
              "            + ' to learn more about interactive tables.';\n",
              "          element.innerHTML = '';\n",
              "          dataTable['output_type'] = 'display_data';\n",
              "          await google.colab.output.renderOutput(dataTable, element);\n",
              "          const docLink = document.createElement('div');\n",
              "          docLink.innerHTML = docLinkHtml;\n",
              "          element.appendChild(docLink);\n",
              "        }\n",
              "      </script>\n",
              "    </div>\n",
              "  </div>\n",
              "  "
            ]
          },
          "metadata": {},
          "execution_count": 2
        }
      ]
    },
    {
      "cell_type": "code",
      "source": [
        "#splitting date time into columns\n",
        "df['event_date_year'] = df['event_date'].dt.year\n",
        "df['event_date_month'] = df['event_date'].dt.month\n",
        "df['event_date_week'] = df['event_date'].dt.week\n",
        "df['event_date_day'] = df['event_date'].dt.day\n",
        "df['event_date_hour'] = df['event_date'].dt.hour\n",
        "df['event_date_minute'] = df['event_date'].dt.minute\n",
        "df['event_date_dayofweek'] = df['event_date'].dt.dayofweek\n",
        "df = df.drop('event_date', axis=1)"
      ],
      "metadata": {
        "colab": {
          "base_uri": "https://localhost:8080/"
        },
        "id": "Ff5lT_eLqZz9",
        "outputId": "3f04eefb-c10c-434f-869e-79f829547bac"
      },
      "execution_count": null,
      "outputs": [
        {
          "output_type": "stream",
          "name": "stderr",
          "text": [
            "<ipython-input-3-534d57747069>:4: FutureWarning: Series.dt.weekofyear and Series.dt.week have been deprecated.  Please use Series.dt.isocalendar().week instead.\n",
            "  df['event_date_week'] = df['event_date'].dt.week\n"
          ]
        }
      ]
    },
    {
      "cell_type": "code",
      "source": [
        "from sklearn import preprocessing\n",
        "le = preprocessing.LabelEncoder()\n",
        "\n",
        "df['country_code']=le.fit_transform(df['country_code'])\n",
        "df['landslide_category']=le.fit_transform(df['landslide_category'])\n",
        "df['landslide_trigger']=le.fit_transform(df['landslide_trigger'])\n",
        "df['landslide_setting']=le.fit_transform(df['landslide_setting'])\n",
        "df['landslide_size']=le.fit_transform(df['landslide_size'])\n",
        "df['admin_division_name']=le.fit_transform(df['admin_division_name'])"
      ],
      "metadata": {
        "id": "RTmwHDUfqiTC"
      },
      "execution_count": null,
      "outputs": []
    },
    {
      "cell_type": "code",
      "source": [
        "X=df\n",
        "from sklearn.preprocessing import StandardScaler\n",
        "scaler = StandardScaler()\n",
        "X=pd.DataFrame(scaler.fit_transform(X),index=X.index, columns=X.columns)\n",
        "Y = df['landslide_trigger']\n",
        "X=X.drop('landslide_trigger',axis=1)"
      ],
      "metadata": {
        "id": "ta2Y2YJaqwrG"
      },
      "execution_count": null,
      "outputs": []
    },
    {
      "cell_type": "code",
      "source": [
        "from sklearn.feature_selection import SelectKBest\n",
        "from sklearn.feature_selection import f_regression\n",
        "\n",
        "bestfeatures = SelectKBest(score_func=f_regression, k=20)\n",
        "fit = bestfeatures.fit(X,Y)\n",
        "dfscores = pd.DataFrame(fit.scores_)\n",
        "dfcolumns = pd.DataFrame(X.columns)\n",
        "\n",
        "featureScores = pd.concat([dfcolumns,dfscores],axis=1)\n",
        "featureScores.columns = ['Specs','Score']  \n",
        "print(featureScores.nlargest(20,'Score'))  "
      ],
      "metadata": {
        "colab": {
          "base_uri": "https://localhost:8080/"
        },
        "id": "xlMXZ4qdtBYf",
        "outputId": "a2d56f25-2f01-4d62-f536-66d5e99dab57"
      },
      "execution_count": null,
      "outputs": [
        {
          "output_type": "stream",
          "name": "stdout",
          "text": [
            "                        Specs      Score\n",
            "10                       temp  34.406099\n",
            "8                   longitude  33.907959\n",
            "0          landslide_category  16.053974\n",
            "13            event_date_year  10.319310\n",
            "16             event_date_day   5.146348\n",
            "12                       wind   5.066933\n",
            "19       event_date_dayofweek   4.772691\n",
            "2           landslide_setting   3.285908\n",
            "7   admin_division_population   2.994219\n",
            "5                country_code   2.893994\n",
            "18          event_date_minute   1.192861\n",
            "14           event_date_month   1.174074\n",
            "17            event_date_hour   0.963765\n",
            "3              fatality_count   0.928045\n",
            "9                    latitude   0.748856\n",
            "1              landslide_size   0.479000\n",
            "11                   humidity   0.295159\n",
            "15            event_date_week   0.106722\n",
            "4                injury_count   0.016458\n",
            "6         admin_division_name   0.001785\n"
          ]
        }
      ]
    },
    {
      "cell_type": "code",
      "source": [
        "#X_backup=X\n",
        "#X=X_backup\n",
        "#X=X[['temp','longitude','landslide_category','wind','landslide_setting','admin_division_population','country_code','fatality_count','latitude','landslide_size']]\n",
        "X=X[['temp','longitude','landslide_category','wind','landslide_setting','admin_division_population','country_code','latitude','fatality_count']]\n",
        "from sklearn.model_selection import train_test_split\n",
        "X_train, X_test, Y_train, Y_test = train_test_split(X, Y, test_size=0.2)"
      ],
      "metadata": {
        "id": "V3BHqjPUtOK9"
      },
      "execution_count": null,
      "outputs": []
    },
    {
      "cell_type": "code",
      "source": [
        "print(X)\n",
        "print(Y)"
      ],
      "metadata": {
        "colab": {
          "base_uri": "https://localhost:8080/"
        },
        "id": "6FaOOrhCuF8k",
        "outputId": "b04ddedc-8369-4759-94b1-02ac0e01c45a"
      },
      "execution_count": null,
      "outputs": [
        {
          "output_type": "stream",
          "name": "stdout",
          "text": [
            "          temp  longitude  landslide_category      wind  landslide_setting  \\\n",
            "0    -0.105749  -1.112515           -0.373315  0.533543           2.163858   \n",
            "1    -0.600428   0.083097           -0.373315  0.241966          -0.095070   \n",
            "2    -1.457067   0.829368           -0.373315 -0.645444           1.316760   \n",
            "3     0.485453  -1.110620           -0.373315  0.305352          -0.659803   \n",
            "4     0.111427  -0.860735           -0.373315 -0.734185          -0.659803   \n",
            "...        ...        ...                 ...       ...                ...   \n",
            "1702 -2.193052  -0.749270            0.229925  0.622284          -0.659803   \n",
            "1703  0.063166  -1.131735           -2.183032 -0.772217           0.187296   \n",
            "1704 -1.613916  -1.105889            2.039642 -0.645444           1.034394   \n",
            "1705  1.221439   1.105412           -0.373315 -0.721508           1.316760   \n",
            "1706 -1.843158   0.757470           -0.373315 -0.303158           1.034394   \n",
            "\n",
            "      admin_division_population  country_code  latitude  fatality_count  \n",
            "0                     -0.182961      0.025405  0.218153       -0.060709  \n",
            "1                     -0.180600     -1.119065  1.219308       -0.060709  \n",
            "2                     -0.159568     -0.724420  0.304969       -0.060709  \n",
            "3                     -0.150532      1.051482  0.247528       -0.060709  \n",
            "4                     -0.152568      0.025405 -0.691340       -0.060709  \n",
            "...                         ...           ...       ...             ...  \n",
            "1702                  -0.182671      1.051482  0.492684       -0.060709  \n",
            "1703                  -0.179440      1.051482  0.306871       -0.060709  \n",
            "1704                  -0.178101     -1.711033  1.219208       -0.060709  \n",
            "1705                   2.281176      0.064870 -1.337440       -0.060709  \n",
            "1706                  -0.172009      0.420050  0.117635       -0.023132  \n",
            "\n",
            "[1687 rows x 9 columns]\n",
            "0       11\n",
            "1        3\n",
            "2        1\n",
            "3        3\n",
            "4       11\n",
            "        ..\n",
            "1702    11\n",
            "1703    11\n",
            "1704     0\n",
            "1705     3\n",
            "1706     3\n",
            "Name: landslide_trigger, Length: 1687, dtype: int64\n"
          ]
        }
      ]
    },
    {
      "cell_type": "code",
      "source": [
        "import statistics\n",
        "import random\n",
        "from sklearn.metrics import accuracy_score\n",
        "from sklearn .dummy import DummyClassifier\n",
        "from sklearn.neighbors import KNeighborsClassifier\n",
        "from sklearn.linear_model import LogisticRegression\n",
        "\n",
        "RandomModel=DummyClassifier(strategy=\"uniform\")\n",
        "RandomModel.fit(X,Y)\n",
        "y_pred=RandomModel.predict(X)\n",
        "print(\"Accuracy score:\",accuracy_score(Y, y_pred))\n",
        "\n",
        "MostFrequentModel=DummyClassifier(strategy=\"most_frequent\")\n",
        "MostFrequentModel.fit(X,Y)\n",
        "y_pred=MostFrequentModel.predict(X)\n",
        "print(\"Accuracy score:\",accuracy_score(Y, y_pred))\n",
        "\n",
        "KNNModel=KNeighborsClassifier(n_neighbors=13,weights='uniform')\n",
        "KNNModel.fit(X_train,Y_train)\n",
        "y_pred=KNNModel.predict(X_test)\n",
        "print(\"Accuracy score:\",accuracy_score(Y_test, y_pred))"
      ],
      "metadata": {
        "colab": {
          "base_uri": "https://localhost:8080/"
        },
        "id": "baCuZ0QXuNtG",
        "outputId": "bf1e7744-7649-4793-9c0e-1431141dcbcc"
      },
      "execution_count": null,
      "outputs": [
        {
          "output_type": "stream",
          "name": "stdout",
          "text": [
            "Accuracy score: 0.05868405453467694\n",
            "Accuracy score: 0.3633669235328986\n",
            "Accuracy score: 0.47041420118343197\n"
          ]
        }
      ]
    },
    {
      "cell_type": "code",
      "source": [
        "import numpy as np\n",
        "import matplotlib.pyplot as plt\n",
        "from sklearn.preprocessing import PolynomialFeatures\n",
        "from sklearn.neighbors import KNeighborsClassifier\n",
        "from sklearn.model_selection import cross_val_score\n",
        "import sklearn.metrics as metrics\n",
        "\n",
        "k_values=range(1,21)\n",
        "mean_f1=[]\n",
        "std_f1=[]\n",
        "for i in k_values:\n",
        "  #creating the model and plotting predictions\n",
        "  KNNModel=KNeighborsClassifier(n_neighbors=i,weights='distance')\n",
        "  KNNModel.fit(X,Y)\n",
        "  f1_scores = cross_val_score(KNNModel, X, Y, cv=5, scoring='f1_macro', n_jobs=-1)\n",
        "  mean_f1.append(np.array(f1_scores).mean())\n",
        "  std_f1.append(np.array(f1_scores).std())\n",
        "\n",
        "#plotting cross validation\n",
        "fig=plt.figure()\n",
        "fig.set_size_inches(15.5, 10.5)\n",
        "ax=fig.add_subplot(111)\n",
        "ax.errorbar(k_values,mean_f1,label='mean',yerr=std_f1)\n",
        "ax.set_ylabel(\"F1 score\")\n",
        "ax.set_xlabel(\"k\")\n",
        "ax.legend(bbox_to_anchor=(1.05, 1),loc='upper left', borderaxespad=0.)\n"
      ],
      "metadata": {
        "colab": {
          "base_uri": "https://localhost:8080/",
          "height": 1000
        },
        "id": "z2YdxFXYdVE7",
        "outputId": "af8a8372-2515-4e95-f1ba-a1f46ef45c4e"
      },
      "execution_count": null,
      "outputs": [
        {
          "output_type": "stream",
          "name": "stderr",
          "text": [
            "/usr/local/lib/python3.8/dist-packages/sklearn/model_selection/_split.py:676: UserWarning: The least populated class in y has only 1 members, which is less than n_splits=5.\n",
            "  warnings.warn(\n",
            "/usr/local/lib/python3.8/dist-packages/sklearn/model_selection/_split.py:676: UserWarning: The least populated class in y has only 1 members, which is less than n_splits=5.\n",
            "  warnings.warn(\n",
            "/usr/local/lib/python3.8/dist-packages/sklearn/model_selection/_split.py:676: UserWarning: The least populated class in y has only 1 members, which is less than n_splits=5.\n",
            "  warnings.warn(\n",
            "/usr/local/lib/python3.8/dist-packages/sklearn/model_selection/_split.py:676: UserWarning: The least populated class in y has only 1 members, which is less than n_splits=5.\n",
            "  warnings.warn(\n",
            "/usr/local/lib/python3.8/dist-packages/sklearn/model_selection/_split.py:676: UserWarning: The least populated class in y has only 1 members, which is less than n_splits=5.\n",
            "  warnings.warn(\n",
            "/usr/local/lib/python3.8/dist-packages/sklearn/model_selection/_split.py:676: UserWarning: The least populated class in y has only 1 members, which is less than n_splits=5.\n",
            "  warnings.warn(\n",
            "/usr/local/lib/python3.8/dist-packages/sklearn/model_selection/_split.py:676: UserWarning: The least populated class in y has only 1 members, which is less than n_splits=5.\n",
            "  warnings.warn(\n",
            "/usr/local/lib/python3.8/dist-packages/sklearn/model_selection/_split.py:676: UserWarning: The least populated class in y has only 1 members, which is less than n_splits=5.\n",
            "  warnings.warn(\n",
            "/usr/local/lib/python3.8/dist-packages/sklearn/model_selection/_split.py:676: UserWarning: The least populated class in y has only 1 members, which is less than n_splits=5.\n",
            "  warnings.warn(\n",
            "/usr/local/lib/python3.8/dist-packages/sklearn/model_selection/_split.py:676: UserWarning: The least populated class in y has only 1 members, which is less than n_splits=5.\n",
            "  warnings.warn(\n",
            "/usr/local/lib/python3.8/dist-packages/sklearn/model_selection/_split.py:676: UserWarning: The least populated class in y has only 1 members, which is less than n_splits=5.\n",
            "  warnings.warn(\n",
            "/usr/local/lib/python3.8/dist-packages/sklearn/model_selection/_split.py:676: UserWarning: The least populated class in y has only 1 members, which is less than n_splits=5.\n",
            "  warnings.warn(\n",
            "/usr/local/lib/python3.8/dist-packages/sklearn/model_selection/_split.py:676: UserWarning: The least populated class in y has only 1 members, which is less than n_splits=5.\n",
            "  warnings.warn(\n",
            "/usr/local/lib/python3.8/dist-packages/sklearn/model_selection/_split.py:676: UserWarning: The least populated class in y has only 1 members, which is less than n_splits=5.\n",
            "  warnings.warn(\n",
            "/usr/local/lib/python3.8/dist-packages/sklearn/model_selection/_split.py:676: UserWarning: The least populated class in y has only 1 members, which is less than n_splits=5.\n",
            "  warnings.warn(\n",
            "/usr/local/lib/python3.8/dist-packages/sklearn/model_selection/_split.py:676: UserWarning: The least populated class in y has only 1 members, which is less than n_splits=5.\n",
            "  warnings.warn(\n",
            "/usr/local/lib/python3.8/dist-packages/sklearn/model_selection/_split.py:676: UserWarning: The least populated class in y has only 1 members, which is less than n_splits=5.\n",
            "  warnings.warn(\n",
            "/usr/local/lib/python3.8/dist-packages/sklearn/model_selection/_split.py:676: UserWarning: The least populated class in y has only 1 members, which is less than n_splits=5.\n",
            "  warnings.warn(\n",
            "/usr/local/lib/python3.8/dist-packages/sklearn/model_selection/_split.py:676: UserWarning: The least populated class in y has only 1 members, which is less than n_splits=5.\n",
            "  warnings.warn(\n",
            "/usr/local/lib/python3.8/dist-packages/sklearn/model_selection/_split.py:676: UserWarning: The least populated class in y has only 1 members, which is less than n_splits=5.\n",
            "  warnings.warn(\n"
          ]
        },
        {
          "output_type": "execute_result",
          "data": {
            "text/plain": [
              "<matplotlib.legend.Legend at 0x7f8704074250>"
            ]
          },
          "metadata": {},
          "execution_count": 11
        },
        {
          "output_type": "display_data",
          "data": {
            "text/plain": [
              "<Figure size 1116x756 with 1 Axes>"
            ],
            "image/png": "[encoded data removed]"
          },
          "metadata": {
            "needs_background": "light"
          }
        }
      ]
    },
    {
      "cell_type": "code",
      "source": [
        "import numpy as np\n",
        "import matplotlib.pyplot as plt\n",
        "from sklearn.neighbors import KNeighborsClassifier\n",
        "from sklearn.model_selection import cross_val_score\n",
        "import sklearn.metrics as metrics\n",
        "\n",
        "leaf_size=range(1,21)\n",
        "mean_f1=[]\n",
        "std_f1=[]\n",
        "for i in leaf_size:\n",
        "  #creating the model and plotting predictions\n",
        "  KNNModel=KNeighborsClassifier(n_neighbors=5,leaf_size=i,weights='distance')\n",
        "  KNNModel.fit(X_train,Y_train)\n",
        "  f1_scores = cross_val_score(KNNModel, X, Y, cv=5, scoring='f1_macro', n_jobs=-1)\n",
        "  mean_f1.append(np.array(f1_scores).mean())\n",
        "  std_f1.append(np.array(f1_scores).std())\n",
        "\n",
        "#plotting cross validation\n",
        "fig=plt.figure()\n",
        "fig.set_size_inches(15.5, 10.5)\n",
        "ax=fig.add_subplot(111)\n",
        "ax.errorbar(leaf_size,mean_f1,label='mean',yerr=std_f1)\n",
        "ax.set_ylabel(\"F1 score\")\n",
        "ax.set_xlabel(\"leaf_size\")\n",
        "ax.legend(bbox_to_anchor=(1.05, 1),loc='upper left', borderaxespad=0.)"
      ],
      "metadata": {
        "colab": {
          "base_uri": "https://localhost:8080/",
          "height": 1000
        },
        "id": "laT_NUIuzD65",
        "outputId": "bfa12501-2a8f-4aee-a866-52ecc2ea2b1d"
      },
      "execution_count": null,
      "outputs": [
        {
          "output_type": "stream",
          "name": "stderr",
          "text": [
            "/usr/local/lib/python3.8/dist-packages/sklearn/model_selection/_split.py:676: UserWarning: The least populated class in y has only 1 members, which is less than n_splits=5.\n",
            "  warnings.warn(\n",
            "/usr/local/lib/python3.8/dist-packages/sklearn/model_selection/_split.py:676: UserWarning: The least populated class in y has only 1 members, which is less than n_splits=5.\n",
            "  warnings.warn(\n",
            "/usr/local/lib/python3.8/dist-packages/sklearn/model_selection/_split.py:676: UserWarning: The least populated class in y has only 1 members, which is less than n_splits=5.\n",
            "  warnings.warn(\n",
            "/usr/local/lib/python3.8/dist-packages/sklearn/model_selection/_split.py:676: UserWarning: The least populated class in y has only 1 members, which is less than n_splits=5.\n",
            "  warnings.warn(\n",
            "/usr/local/lib/python3.8/dist-packages/sklearn/model_selection/_split.py:676: UserWarning: The least populated class in y has only 1 members, which is less than n_splits=5.\n",
            "  warnings.warn(\n",
            "/usr/local/lib/python3.8/dist-packages/sklearn/model_selection/_split.py:676: UserWarning: The least populated class in y has only 1 members, which is less than n_splits=5.\n",
            "  warnings.warn(\n",
            "/usr/local/lib/python3.8/dist-packages/sklearn/model_selection/_split.py:676: UserWarning: The least populated class in y has only 1 members, which is less than n_splits=5.\n",
            "  warnings.warn(\n",
            "/usr/local/lib/python3.8/dist-packages/sklearn/model_selection/_split.py:676: UserWarning: The least populated class in y has only 1 members, which is less than n_splits=5.\n",
            "  warnings.warn(\n",
            "/usr/local/lib/python3.8/dist-packages/sklearn/model_selection/_split.py:676: UserWarning: The least populated class in y has only 1 members, which is less than n_splits=5.\n",
            "  warnings.warn(\n",
            "/usr/local/lib/python3.8/dist-packages/sklearn/model_selection/_split.py:676: UserWarning: The least populated class in y has only 1 members, which is less than n_splits=5.\n",
            "  warnings.warn(\n",
            "/usr/local/lib/python3.8/dist-packages/sklearn/model_selection/_split.py:676: UserWarning: The least populated class in y has only 1 members, which is less than n_splits=5.\n",
            "  warnings.warn(\n",
            "/usr/local/lib/python3.8/dist-packages/sklearn/model_selection/_split.py:676: UserWarning: The least populated class in y has only 1 members, which is less than n_splits=5.\n",
            "  warnings.warn(\n",
            "/usr/local/lib/python3.8/dist-packages/sklearn/model_selection/_split.py:676: UserWarning: The least populated class in y has only 1 members, which is less than n_splits=5.\n",
            "  warnings.warn(\n",
            "/usr/local/lib/python3.8/dist-packages/sklearn/model_selection/_split.py:676: UserWarning: The least populated class in y has only 1 members, which is less than n_splits=5.\n",
            "  warnings.warn(\n",
            "/usr/local/lib/python3.8/dist-packages/sklearn/model_selection/_split.py:676: UserWarning: The least populated class in y has only 1 members, which is less than n_splits=5.\n",
            "  warnings.warn(\n",
            "/usr/local/lib/python3.8/dist-packages/sklearn/model_selection/_split.py:676: UserWarning: The least populated class in y has only 1 members, which is less than n_splits=5.\n",
            "  warnings.warn(\n",
            "/usr/local/lib/python3.8/dist-packages/sklearn/model_selection/_split.py:676: UserWarning: The least populated class in y has only 1 members, which is less than n_splits=5.\n",
            "  warnings.warn(\n",
            "/usr/local/lib/python3.8/dist-packages/sklearn/model_selection/_split.py:676: UserWarning: The least populated class in y has only 1 members, which is less than n_splits=5.\n",
            "  warnings.warn(\n",
            "/usr/local/lib/python3.8/dist-packages/sklearn/model_selection/_split.py:676: UserWarning: The least populated class in y has only 1 members, which is less than n_splits=5.\n",
            "  warnings.warn(\n",
            "/usr/local/lib/python3.8/dist-packages/sklearn/model_selection/_split.py:676: UserWarning: The least populated class in y has only 1 members, which is less than n_splits=5.\n",
            "  warnings.warn(\n"
          ]
        },
        {
          "output_type": "execute_result",
          "data": {
            "text/plain": [
              "<matplotlib.legend.Legend at 0x7f8703b57700>"
            ]
          },
          "metadata": {},
          "execution_count": 12
        },
        {
          "output_type": "display_data",
          "data": {
            "text/plain": [
              "<Figure size 1116x756 with 1 Axes>"
            ],
            "image/png": "[encoded data removed]"
          },
          "metadata": {
            "needs_background": "light"
          }
        }
      ]
    },
    {
      "cell_type": "code",
      "source": [
        "KNNModel=KNeighborsClassifier(n_neighbors=5)\n",
        "KNNModel.fit(X_train,Y_train)"
      ],
      "metadata": {
        "colab": {
          "base_uri": "https://localhost:8080/"
        },
        "id": "x1ANkvEu1wAE",
        "outputId": "24d9e019-82bc-49af-c178-df1db0e7cee9"
      },
      "execution_count": null,
      "outputs": [
        {
          "output_type": "execute_result",
          "data": {
            "text/plain": [
              "KNeighborsClassifier()"
            ]
          },
          "metadata": {},
          "execution_count": 13
        }
      ]
    },
    {
      "cell_type": "code",
      "source": [
        "from sklearn.metrics import plot_confusion_matrix\n",
        "y_pred=KNNModel.predict(X_train)\n",
        "print(\"Accuracy score:\",metrics.accuracy_score(Y_train, y_pred))\n",
        "print(\"Precision Score : \",metrics.precision_score(Y_train,y_pred,pos_label='positive',average='weighted'))\n",
        "print(\"Recall Score :\" , metrics.recall_score(Y_train, y_pred, pos_label='positive',average='weighted') )\n",
        "print(\"F1 Score :\" , metrics.f1_score(Y_train, y_pred, pos_label='positive',average='weighted') )\n",
        "\n",
        "print(metrics.confusion_matrix(Y_train,y_pred))\n",
        "plot_confusion_matrix(KNNModel, X_train, y_pred)  \n",
        "plt.show()"
      ],
      "metadata": {
        "colab": {
          "base_uri": "https://localhost:8080/",
          "height": 792
        },
        "id": "rjSRuDQl14Mh",
        "outputId": "c39b009a-5e39-48ac-c52e-80f9d3085e5b"
      },
      "execution_count": null,
      "outputs": [
        {
          "output_type": "stream",
          "name": "stdout",
          "text": [
            "Accuracy score: 0.5618977020014826\n",
            "Precision Score :  0.5604825672570571\n",
            "Recall Score : 0.5618977020014826\n",
            "F1 Score : 0.5484599148445902\n",
            "[[  3   3   0  10   0   0   1   1   0   0   0   7   0   1   0]\n",
            " [  1 147   0  48   0   1   0   1   2   0   0  23   1   4   0]\n",
            " [  0   1   1   3   0   0   0   0   0   0   0   1   0   0   0]\n",
            " [  2  78   0 322   5   1   0   0   1   0   0  57   2   2   0]\n",
            " [  1   1   0  10  18   0   0   0   0   0   0   4   3   0   0]\n",
            " [  1   2   0  14   0   3   0   0   1   0   0   5   0   1   0]\n",
            " [  2   0   0   3   0   0   6   0   0   0   0   2   1   0   0]\n",
            " [  1   5   0  10   0   0   0  14   1   0   0   2   0   1   0]\n",
            " [  2   8   0   9   1   0   0   0   9   0   0   1   0   1   0]\n",
            " [  1   1   0   8   0   0   0   0   0   0   0   4   0   0   0]\n",
            " [  0   2   0   0   0   0   0   0   0   0   0   1   0   0   0]\n",
            " [  2  39   0 107   3   1   4   0   2   0   1 205   4   1   0]\n",
            " [  1   4   0   8   0   0   1   0   0   0   0  17   9   0   0]\n",
            " [  0   7   0  10   0   0   0   0   3   0   0   8   0  21   0]\n",
            " [  0   0   0   1   0   0   0   0   0   0   0   0   0   0   0]]\n"
          ]
        },
        {
          "output_type": "stream",
          "name": "stderr",
          "text": [
            "/usr/local/lib/python3.8/dist-packages/sklearn/metrics/_classification.py:1370: UserWarning: Note that pos_label (set to 'positive') is ignored when average != 'binary' (got 'weighted'). You may use labels=[pos_label] to specify a single positive class.\n",
            "  warnings.warn(\n",
            "/usr/local/lib/python3.8/dist-packages/sklearn/metrics/_classification.py:1318: UndefinedMetricWarning: Precision is ill-defined and being set to 0.0 in labels with no predicted samples. Use `zero_division` parameter to control this behavior.\n",
            "  _warn_prf(average, modifier, msg_start, len(result))\n",
            "/usr/local/lib/python3.8/dist-packages/sklearn/metrics/_classification.py:1370: UserWarning: Note that pos_label (set to 'positive') is ignored when average != 'binary' (got 'weighted'). You may use labels=[pos_label] to specify a single positive class.\n",
            "  warnings.warn(\n",
            "/usr/local/lib/python3.8/dist-packages/sklearn/metrics/_classification.py:1370: UserWarning: Note that pos_label (set to 'positive') is ignored when average != 'binary' (got 'weighted'). You may use labels=[pos_label] to specify a single positive class.\n",
            "  warnings.warn(\n",
            "/usr/local/lib/python3.8/dist-packages/sklearn/utils/deprecation.py:87: FutureWarning: Function plot_confusion_matrix is deprecated; Function `plot_confusion_matrix` is deprecated in 1.0 and will be removed in 1.2. Use one of the class methods: ConfusionMatrixDisplay.from_predictions or ConfusionMatrixDisplay.from_estimator.\n",
            "  warnings.warn(msg, category=FutureWarning)\n"
          ]
        },
        {
          "output_type": "display_data",
          "data": {
            "text/plain": [
              "<Figure size 432x288 with 2 Axes>"
            ],
            "image/png": "[encoded data removed]"
          },
          "metadata": {
            "needs_background": "light"
          }
        }
      ]
    },
    {
      "cell_type": "code",
      "source": [
        "\n",
        "y_pred=KNNModel.predict(X_test)\n",
        "print(\"Accuracy score:\",metrics.accuracy_score(Y_test, y_pred))\n",
        "print(\"Precision Score : \",metrics.precision_score(Y_test,y_pred,pos_label='positive',average='weighted'))\n",
        "print(\"Recall Score :\" , metrics.recall_score(Y_test, y_pred, pos_label='positive',average='weighted') )\n",
        "print(\"F1 Score :\" , metrics.f1_score(Y_test, y_pred, pos_label='positive',average='weighted') )\n",
        "\n",
        "print(metrics.confusion_matrix(Y_test,y_pred))\n",
        "plot_confusion_matrix(KNNModel, X_test, y_pred)  \n",
        "plt.show()"
      ],
      "metadata": {
        "colab": {
          "base_uri": "https://localhost:8080/",
          "height": 758
        },
        "id": "iZNLzbKC14da",
        "outputId": "dc6b21a3-824d-4854-dff5-91c756be20c7"
      },
      "execution_count": null,
      "outputs": [
        {
          "output_type": "stream",
          "name": "stdout",
          "text": [
            "Accuracy score: 0.4467455621301775\n",
            "Precision Score :  0.4379068047337278\n",
            "Recall Score : 0.4467455621301775\n",
            "F1 Score : 0.4369617912742503\n",
            "[[ 1  3  0  1  0  0  0  0  0  0  0  0  0]\n",
            " [ 0 21  0 15  0  0  0  0  2  0 11  0  2]\n",
            " [ 0  1  0  0  0  0  0  0  0  0  0  0  0]\n",
            " [ 1 33  0 86  1  1  0  1  0  0 17  1  2]\n",
            " [ 0  2  0  2  1  0  0  0  0  0  1  1  0]\n",
            " [ 0  1  0  1  0  0  0  0  0  0  4  0  0]\n",
            " [ 0  0  0  0  0  0  0  0  0  0  1  0  0]\n",
            " [ 0  2  0  0  0  0  0  1  0  0  5  0  0]\n",
            " [ 0  4  0  2  0  0  0  0  0  0  1  0  1]\n",
            " [ 0  0  0  3  0  0  0  0  0  0  0  0  0]\n",
            " [ 1 11  0 29  0  2  0  0  1  0 39  1  2]\n",
            " [ 1  0  0  2  1  0  0  1  0  0  4  1  0]\n",
            " [ 1  2  0  2  0  0  0  0  0  0  3  0  1]]\n"
          ]
        },
        {
          "output_type": "stream",
          "name": "stderr",
          "text": [
            "/usr/local/lib/python3.8/dist-packages/sklearn/metrics/_classification.py:1370: UserWarning: Note that pos_label (set to 'positive') is ignored when average != 'binary' (got 'weighted'). You may use labels=[pos_label] to specify a single positive class.\n",
            "  warnings.warn(\n",
            "/usr/local/lib/python3.8/dist-packages/sklearn/metrics/_classification.py:1318: UndefinedMetricWarning: Precision is ill-defined and being set to 0.0 in labels with no predicted samples. Use `zero_division` parameter to control this behavior.\n",
            "  _warn_prf(average, modifier, msg_start, len(result))\n",
            "/usr/local/lib/python3.8/dist-packages/sklearn/metrics/_classification.py:1370: UserWarning: Note that pos_label (set to 'positive') is ignored when average != 'binary' (got 'weighted'). You may use labels=[pos_label] to specify a single positive class.\n",
            "  warnings.warn(\n",
            "/usr/local/lib/python3.8/dist-packages/sklearn/metrics/_classification.py:1370: UserWarning: Note that pos_label (set to 'positive') is ignored when average != 'binary' (got 'weighted'). You may use labels=[pos_label] to specify a single positive class.\n",
            "  warnings.warn(\n",
            "/usr/local/lib/python3.8/dist-packages/sklearn/utils/deprecation.py:87: FutureWarning: Function plot_confusion_matrix is deprecated; Function `plot_confusion_matrix` is deprecated in 1.0 and will be removed in 1.2. Use one of the class methods: ConfusionMatrixDisplay.from_predictions or ConfusionMatrixDisplay.from_estimator.\n",
            "  warnings.warn(msg, category=FutureWarning)\n"
          ]
        },
        {
          "output_type": "display_data",
          "data": {
            "text/plain": [
              "<Figure size 432x288 with 2 Axes>"
            ],
            "image/png": "[encoded data removed]"
          },
          "metadata": {
            "needs_background": "light"
          }
        }
      ]
    }
  ]
}